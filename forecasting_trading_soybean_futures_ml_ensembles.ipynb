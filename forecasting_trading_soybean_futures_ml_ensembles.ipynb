{
  "nbformat": 4,
  "nbformat_minor": 0,
  "metadata": {
    "colab": {
      "provenance": [],
      "toc_visible": true,
      "authorship_tag": "ABX9TyNJxcz0yqKo3Sl3jTKKDo3C",
      "include_colab_link": true
    },
    "kernelspec": {
      "name": "python3",
      "display_name": "Python 3"
    },
    "language_info": {
      "name": "python"
    }
  },
  "cells": [
    {
      "cell_type": "markdown",
      "metadata": {
        "id": "view-in-github",
        "colab_type": "text"
      },
      "source": [
        "<a href=\"https://colab.research.google.com/github/vzinkovski/forecasting_trading_futures_ml_ensembles/blob/main/forecasting_trading_soybean_futures_ml_ensembles.ipynb\" target=\"_parent\"><img src=\"https://colab.research.google.com/assets/colab-badge.svg\" alt=\"Open In Colab\"/></a>"
      ]
    },
    {
      "cell_type": "markdown",
      "source": [
        "# Forecasting and Trading CME Soybean Futures with ML Ensembles\n",
        "\n",
        "*Last updated: 01 Feb 2024*\n",
        "\n",
        "```\n",
        "# This is formatted as code\n",
        "```\n",
        "\n"
      ],
      "metadata": {
        "id": "lZCqnpQcx4Gn"
      }
    },
    {
      "cell_type": "markdown",
      "source": [
        "**Introduction**\n",
        "\n",
        "In financial economics, the efficient market hypothesis (EMH) posits that all available information regarding a given security is reflected in its price. There exist a weak, semi-strong and strong form EMH, but all agree that it is essentially not possible to consistently outperform the market.\n",
        "\n",
        "In contrast to this, behavioural finance explores how psychological factors can lead to market inefficiencies and deviations from the EMH.\n",
        "\n",
        "Empirically, numerous hedge funds and trading houses, both systematic and discretionary, have proven capable to beat the market over the long run.\n",
        "\n",
        "**Objective**\n",
        "\n",
        "In this project we will build an ensemble of supervised learning machine models to forecast returns of CME soybean futures prices. Returns are well-known to be stationary and therefore it is our assumption that these should be easier to forecast than absolute price levels. Our model will forecast whether tomorrow's closing price is higher or lower versus today.\n",
        "\n",
        "Following on from this, we develop a simple trading strategy, where if we predict tomorrow's price to close higher, we enter a long position for a holding period of just one day.\n",
        "\n",
        "The above approach can be extended to forecast returns for other commodities futures, stock prices, currency pairs, etc."
      ],
      "metadata": {
        "id": "yQfiWrYhPBtz"
      }
    },
    {
      "cell_type": "markdown",
      "source": [
        "## Libraries"
      ],
      "metadata": {
        "id": "tJnVgjdKwpcD"
      }
    },
    {
      "cell_type": "code",
      "source": [
        "%%capture\n",
        "\n",
        "# install missing libraries\n",
        "!pip install watermark # record dependencies"
      ],
      "metadata": {
        "id": "VzkZ5Wqbzdxn"
      },
      "execution_count": 1,
      "outputs": []
    },
    {
      "cell_type": "code",
      "source": [
        "# standard libraries\n",
        "import numpy as np\n",
        "import pandas as pd\n",
        "import scipy.stats\n",
        "\n",
        "# machine learning libraries\n",
        "import lightgbm as lgb\n",
        "from sklearn.compose import make_column_selector, make_column_transformer\n",
        "from sklearn.dummy import DummyClassifier\n",
        "from sklearn.ensemble import VotingClassifier\n",
        "from sklearn.impute import SimpleImputer\n",
        "from sklearn.linear_model import LogisticRegression\n",
        "from sklearn.metrics import precision_recall_curve, precision_score\n",
        "from sklearn.model_selection import cross_val_score, RandomizedSearchCV, TimeSeriesSplit\n",
        "from sklearn.neighbors import KNeighborsClassifier\n",
        "from sklearn.pipeline import make_pipeline\n",
        "from sklearn.preprocessing import OneHotEncoder, StandardScaler\n",
        "import xgboost as xgb\n",
        "\n",
        "# visualisation libraries\n",
        "import matplotlib.pyplot as plt\n",
        "from sklearn.metrics import ConfusionMatrixDisplay\n",
        "\n",
        "# api libraries\n",
        "import yfinance as yf\n",
        "\n",
        "# utility\n",
        "import warnings"
      ],
      "metadata": {
        "id": "fVdFmC6FxQrP",
        "colab": {
          "base_uri": "https://localhost:8080/"
        },
        "outputId": "0036063f-7800-4c3a-da4a-ce4994265853"
      },
      "execution_count": 2,
      "outputs": [
        {
          "output_type": "stream",
          "name": "stderr",
          "text": [
            "/usr/local/lib/python3.10/dist-packages/yfinance/base.py:48: FutureWarning: The default dtype for empty Series will be 'object' instead of 'float64' in a future version. Specify a dtype explicitly to silence this warning.\n",
            "  _empty_series = pd.Series()\n"
          ]
        }
      ]
    },
    {
      "cell_type": "code",
      "source": [
        "# pandas display\n",
        "pd.set_option('display.max_columns', None)\n",
        "pd.set_option('display.max_rows', 250)\n",
        "pd.set_option('display.width', None)\n",
        "pd.set_option('display.float_format', lambda x: '{:.2f}'.format(x))\n",
        "\n",
        "# other display\n",
        "warnings.filterwarnings(\"ignore\", category=Warning)"
      ],
      "metadata": {
        "id": "VTMScdR5lks1"
      },
      "execution_count": 3,
      "outputs": []
    },
    {
      "cell_type": "markdown",
      "source": [
        "## Load data"
      ],
      "metadata": {
        "id": "7tUkS33QxWbW"
      }
    },
    {
      "cell_type": "code",
      "source": [
        "# define commodity futures contract\n",
        "ticker = 'ZS=F' # cme soybeans\n",
        "ticker_name = 'soybeans'\n",
        "\n",
        "# download ohlc price and volume data\n",
        "main_df = yf.download([ticker])"
      ],
      "metadata": {
        "colab": {
          "base_uri": "https://localhost:8080/"
        },
        "id": "i6_rqI6oTaOg",
        "outputId": "d554f6f6-3297-4a5e-cc2e-16d846772e57"
      },
      "execution_count": 4,
      "outputs": [
        {
          "output_type": "stream",
          "name": "stderr",
          "text": [
            "\r[*********************100%%**********************]  1 of 1 completed\n"
          ]
        }
      ]
    },
    {
      "cell_type": "markdown",
      "source": [
        "## Preprocess data"
      ],
      "metadata": {
        "id": "u_TwGco3x3Tu"
      }
    },
    {
      "cell_type": "code",
      "source": [
        "# drop uninformative columns\n",
        "main_df.drop('Close', axis=1, inplace=True)\n",
        "\n",
        "# rename columns for convenience\n",
        "main_df.rename(columns={'Adj Close': 'Close'}, inplace=True)"
      ],
      "metadata": {
        "id": "_702R92bKqla"
      },
      "execution_count": 5,
      "outputs": []
    },
    {
      "cell_type": "code",
      "source": [
        "# check missing values\n",
        "main_df.isna().sum()"
      ],
      "metadata": {
        "colab": {
          "base_uri": "https://localhost:8080/"
        },
        "id": "txWDHm8EzHXV",
        "outputId": "70caca49-b811-4d5e-8a36-42976a5ec17f"
      },
      "execution_count": 6,
      "outputs": [
        {
          "output_type": "execute_result",
          "data": {
            "text/plain": [
              "Open      0\n",
              "High      0\n",
              "Low       0\n",
              "Close     0\n",
              "Volume    0\n",
              "dtype: int64"
            ]
          },
          "metadata": {},
          "execution_count": 6
        }
      ]
    },
    {
      "cell_type": "code",
      "source": [
        "# check outliers\n",
        "main_df.describe()"
      ],
      "metadata": {
        "colab": {
          "base_uri": "https://localhost:8080/",
          "height": 300
        },
        "id": "T7opRaAXzJ0d",
        "outputId": "b9082b8a-5a2d-48d7-d6b9-95dd607fab03"
      },
      "execution_count": 7,
      "outputs": [
        {
          "output_type": "execute_result",
          "data": {
            "text/plain": [
              "         Open    High     Low   Close    Volume\n",
              "count 5881.00 5881.00 5881.00 5881.00   5881.00\n",
              "mean  1002.41 1012.02  993.93 1002.77  49935.95\n",
              "std    337.55  342.63  332.67  337.54  55153.63\n",
              "min    418.00  418.50  418.00  418.50      0.00\n",
              "25%    750.50  757.50  744.50  751.00    755.00\n",
              "50%    971.25  981.00  964.50  971.50  23359.00\n",
              "75%   1309.00 1321.75 1295.50 1308.25  95500.00\n",
              "max   1778.50 1794.75 1760.50 1771.00 352462.00"
            ],
            "text/html": [
              "\n",
              "  <div id=\"df-28f6a231-5465-4167-9616-f923ae1d82bf\" class=\"colab-df-container\">\n",
              "    <div>\n",
              "<style scoped>\n",
              "    .dataframe tbody tr th:only-of-type {\n",
              "        vertical-align: middle;\n",
              "    }\n",
              "\n",
              "    .dataframe tbody tr th {\n",
              "        vertical-align: top;\n",
              "    }\n",
              "\n",
              "    .dataframe thead th {\n",
              "        text-align: right;\n",
              "    }\n",
              "</style>\n",
              "<table border=\"1\" class=\"dataframe\">\n",
              "  <thead>\n",
              "    <tr style=\"text-align: right;\">\n",
              "      <th></th>\n",
              "      <th>Open</th>\n",
              "      <th>High</th>\n",
              "      <th>Low</th>\n",
              "      <th>Close</th>\n",
              "      <th>Volume</th>\n",
              "    </tr>\n",
              "  </thead>\n",
              "  <tbody>\n",
              "    <tr>\n",
              "      <th>count</th>\n",
              "      <td>5881.00</td>\n",
              "      <td>5881.00</td>\n",
              "      <td>5881.00</td>\n",
              "      <td>5881.00</td>\n",
              "      <td>5881.00</td>\n",
              "    </tr>\n",
              "    <tr>\n",
              "      <th>mean</th>\n",
              "      <td>1002.41</td>\n",
              "      <td>1012.02</td>\n",
              "      <td>993.93</td>\n",
              "      <td>1002.77</td>\n",
              "      <td>49935.95</td>\n",
              "    </tr>\n",
              "    <tr>\n",
              "      <th>std</th>\n",
              "      <td>337.55</td>\n",
              "      <td>342.63</td>\n",
              "      <td>332.67</td>\n",
              "      <td>337.54</td>\n",
              "      <td>55153.63</td>\n",
              "    </tr>\n",
              "    <tr>\n",
              "      <th>min</th>\n",
              "      <td>418.00</td>\n",
              "      <td>418.50</td>\n",
              "      <td>418.00</td>\n",
              "      <td>418.50</td>\n",
              "      <td>0.00</td>\n",
              "    </tr>\n",
              "    <tr>\n",
              "      <th>25%</th>\n",
              "      <td>750.50</td>\n",
              "      <td>757.50</td>\n",
              "      <td>744.50</td>\n",
              "      <td>751.00</td>\n",
              "      <td>755.00</td>\n",
              "    </tr>\n",
              "    <tr>\n",
              "      <th>50%</th>\n",
              "      <td>971.25</td>\n",
              "      <td>981.00</td>\n",
              "      <td>964.50</td>\n",
              "      <td>971.50</td>\n",
              "      <td>23359.00</td>\n",
              "    </tr>\n",
              "    <tr>\n",
              "      <th>75%</th>\n",
              "      <td>1309.00</td>\n",
              "      <td>1321.75</td>\n",
              "      <td>1295.50</td>\n",
              "      <td>1308.25</td>\n",
              "      <td>95500.00</td>\n",
              "    </tr>\n",
              "    <tr>\n",
              "      <th>max</th>\n",
              "      <td>1778.50</td>\n",
              "      <td>1794.75</td>\n",
              "      <td>1760.50</td>\n",
              "      <td>1771.00</td>\n",
              "      <td>352462.00</td>\n",
              "    </tr>\n",
              "  </tbody>\n",
              "</table>\n",
              "</div>\n",
              "    <div class=\"colab-df-buttons\">\n",
              "\n",
              "  <div class=\"colab-df-container\">\n",
              "    <button class=\"colab-df-convert\" onclick=\"convertToInteractive('df-28f6a231-5465-4167-9616-f923ae1d82bf')\"\n",
              "            title=\"Convert this dataframe to an interactive table.\"\n",
              "            style=\"display:none;\">\n",
              "\n",
              "  <svg xmlns=\"http://www.w3.org/2000/svg\" height=\"24px\" viewBox=\"0 -960 960 960\">\n",
              "    <path d=\"M120-120v-720h720v720H120Zm60-500h600v-160H180v160Zm220 220h160v-160H400v160Zm0 220h160v-160H400v160ZM180-400h160v-160H180v160Zm440 0h160v-160H620v160ZM180-180h160v-160H180v160Zm440 0h160v-160H620v160Z\"/>\n",
              "  </svg>\n",
              "    </button>\n",
              "\n",
              "  <style>\n",
              "    .colab-df-container {\n",
              "      display:flex;\n",
              "      gap: 12px;\n",
              "    }\n",
              "\n",
              "    .colab-df-convert {\n",
              "      background-color: #E8F0FE;\n",
              "      border: none;\n",
              "      border-radius: 50%;\n",
              "      cursor: pointer;\n",
              "      display: none;\n",
              "      fill: #1967D2;\n",
              "      height: 32px;\n",
              "      padding: 0 0 0 0;\n",
              "      width: 32px;\n",
              "    }\n",
              "\n",
              "    .colab-df-convert:hover {\n",
              "      background-color: #E2EBFA;\n",
              "      box-shadow: 0px 1px 2px rgba(60, 64, 67, 0.3), 0px 1px 3px 1px rgba(60, 64, 67, 0.15);\n",
              "      fill: #174EA6;\n",
              "    }\n",
              "\n",
              "    .colab-df-buttons div {\n",
              "      margin-bottom: 4px;\n",
              "    }\n",
              "\n",
              "    [theme=dark] .colab-df-convert {\n",
              "      background-color: #3B4455;\n",
              "      fill: #D2E3FC;\n",
              "    }\n",
              "\n",
              "    [theme=dark] .colab-df-convert:hover {\n",
              "      background-color: #434B5C;\n",
              "      box-shadow: 0px 1px 3px 1px rgba(0, 0, 0, 0.15);\n",
              "      filter: drop-shadow(0px 1px 2px rgba(0, 0, 0, 0.3));\n",
              "      fill: #FFFFFF;\n",
              "    }\n",
              "  </style>\n",
              "\n",
              "    <script>\n",
              "      const buttonEl =\n",
              "        document.querySelector('#df-28f6a231-5465-4167-9616-f923ae1d82bf button.colab-df-convert');\n",
              "      buttonEl.style.display =\n",
              "        google.colab.kernel.accessAllowed ? 'block' : 'none';\n",
              "\n",
              "      async function convertToInteractive(key) {\n",
              "        const element = document.querySelector('#df-28f6a231-5465-4167-9616-f923ae1d82bf');\n",
              "        const dataTable =\n",
              "          await google.colab.kernel.invokeFunction('convertToInteractive',\n",
              "                                                    [key], {});\n",
              "        if (!dataTable) return;\n",
              "\n",
              "        const docLinkHtml = 'Like what you see? Visit the ' +\n",
              "          '<a target=\"_blank\" href=https://colab.research.google.com/notebooks/data_table.ipynb>data table notebook</a>'\n",
              "          + ' to learn more about interactive tables.';\n",
              "        element.innerHTML = '';\n",
              "        dataTable['output_type'] = 'display_data';\n",
              "        await google.colab.output.renderOutput(dataTable, element);\n",
              "        const docLink = document.createElement('div');\n",
              "        docLink.innerHTML = docLinkHtml;\n",
              "        element.appendChild(docLink);\n",
              "      }\n",
              "    </script>\n",
              "  </div>\n",
              "\n",
              "\n",
              "<div id=\"df-981308d4-478a-419c-b46d-f20b878cae6f\">\n",
              "  <button class=\"colab-df-quickchart\" onclick=\"quickchart('df-981308d4-478a-419c-b46d-f20b878cae6f')\"\n",
              "            title=\"Suggest charts\"\n",
              "            style=\"display:none;\">\n",
              "\n",
              "<svg xmlns=\"http://www.w3.org/2000/svg\" height=\"24px\"viewBox=\"0 0 24 24\"\n",
              "     width=\"24px\">\n",
              "    <g>\n",
              "        <path d=\"M19 3H5c-1.1 0-2 .9-2 2v14c0 1.1.9 2 2 2h14c1.1 0 2-.9 2-2V5c0-1.1-.9-2-2-2zM9 17H7v-7h2v7zm4 0h-2V7h2v10zm4 0h-2v-4h2v4z\"/>\n",
              "    </g>\n",
              "</svg>\n",
              "  </button>\n",
              "\n",
              "<style>\n",
              "  .colab-df-quickchart {\n",
              "      --bg-color: #E8F0FE;\n",
              "      --fill-color: #1967D2;\n",
              "      --hover-bg-color: #E2EBFA;\n",
              "      --hover-fill-color: #174EA6;\n",
              "      --disabled-fill-color: #AAA;\n",
              "      --disabled-bg-color: #DDD;\n",
              "  }\n",
              "\n",
              "  [theme=dark] .colab-df-quickchart {\n",
              "      --bg-color: #3B4455;\n",
              "      --fill-color: #D2E3FC;\n",
              "      --hover-bg-color: #434B5C;\n",
              "      --hover-fill-color: #FFFFFF;\n",
              "      --disabled-bg-color: #3B4455;\n",
              "      --disabled-fill-color: #666;\n",
              "  }\n",
              "\n",
              "  .colab-df-quickchart {\n",
              "    background-color: var(--bg-color);\n",
              "    border: none;\n",
              "    border-radius: 50%;\n",
              "    cursor: pointer;\n",
              "    display: none;\n",
              "    fill: var(--fill-color);\n",
              "    height: 32px;\n",
              "    padding: 0;\n",
              "    width: 32px;\n",
              "  }\n",
              "\n",
              "  .colab-df-quickchart:hover {\n",
              "    background-color: var(--hover-bg-color);\n",
              "    box-shadow: 0 1px 2px rgba(60, 64, 67, 0.3), 0 1px 3px 1px rgba(60, 64, 67, 0.15);\n",
              "    fill: var(--button-hover-fill-color);\n",
              "  }\n",
              "\n",
              "  .colab-df-quickchart-complete:disabled,\n",
              "  .colab-df-quickchart-complete:disabled:hover {\n",
              "    background-color: var(--disabled-bg-color);\n",
              "    fill: var(--disabled-fill-color);\n",
              "    box-shadow: none;\n",
              "  }\n",
              "\n",
              "  .colab-df-spinner {\n",
              "    border: 2px solid var(--fill-color);\n",
              "    border-color: transparent;\n",
              "    border-bottom-color: var(--fill-color);\n",
              "    animation:\n",
              "      spin 1s steps(1) infinite;\n",
              "  }\n",
              "\n",
              "  @keyframes spin {\n",
              "    0% {\n",
              "      border-color: transparent;\n",
              "      border-bottom-color: var(--fill-color);\n",
              "      border-left-color: var(--fill-color);\n",
              "    }\n",
              "    20% {\n",
              "      border-color: transparent;\n",
              "      border-left-color: var(--fill-color);\n",
              "      border-top-color: var(--fill-color);\n",
              "    }\n",
              "    30% {\n",
              "      border-color: transparent;\n",
              "      border-left-color: var(--fill-color);\n",
              "      border-top-color: var(--fill-color);\n",
              "      border-right-color: var(--fill-color);\n",
              "    }\n",
              "    40% {\n",
              "      border-color: transparent;\n",
              "      border-right-color: var(--fill-color);\n",
              "      border-top-color: var(--fill-color);\n",
              "    }\n",
              "    60% {\n",
              "      border-color: transparent;\n",
              "      border-right-color: var(--fill-color);\n",
              "    }\n",
              "    80% {\n",
              "      border-color: transparent;\n",
              "      border-right-color: var(--fill-color);\n",
              "      border-bottom-color: var(--fill-color);\n",
              "    }\n",
              "    90% {\n",
              "      border-color: transparent;\n",
              "      border-bottom-color: var(--fill-color);\n",
              "    }\n",
              "  }\n",
              "</style>\n",
              "\n",
              "  <script>\n",
              "    async function quickchart(key) {\n",
              "      const quickchartButtonEl =\n",
              "        document.querySelector('#' + key + ' button');\n",
              "      quickchartButtonEl.disabled = true;  // To prevent multiple clicks.\n",
              "      quickchartButtonEl.classList.add('colab-df-spinner');\n",
              "      try {\n",
              "        const charts = await google.colab.kernel.invokeFunction(\n",
              "            'suggestCharts', [key], {});\n",
              "      } catch (error) {\n",
              "        console.error('Error during call to suggestCharts:', error);\n",
              "      }\n",
              "      quickchartButtonEl.classList.remove('colab-df-spinner');\n",
              "      quickchartButtonEl.classList.add('colab-df-quickchart-complete');\n",
              "    }\n",
              "    (() => {\n",
              "      let quickchartButtonEl =\n",
              "        document.querySelector('#df-981308d4-478a-419c-b46d-f20b878cae6f button');\n",
              "      quickchartButtonEl.style.display =\n",
              "        google.colab.kernel.accessAllowed ? 'block' : 'none';\n",
              "    })();\n",
              "  </script>\n",
              "</div>\n",
              "\n",
              "    </div>\n",
              "  </div>\n"
            ]
          },
          "metadata": {},
          "execution_count": 7
        }
      ]
    },
    {
      "cell_type": "code",
      "source": [
        "# check duplicate dates\n",
        "main_df.duplicated().sum()"
      ],
      "metadata": {
        "colab": {
          "base_uri": "https://localhost:8080/"
        },
        "id": "Qw9g0FKGzLFR",
        "outputId": "99db7526-ae55-46dc-b81c-eb43bfde29be"
      },
      "execution_count": 8,
      "outputs": [
        {
          "output_type": "execute_result",
          "data": {
            "text/plain": [
              "0"
            ]
          },
          "metadata": {},
          "execution_count": 8
        }
      ]
    },
    {
      "cell_type": "markdown",
      "source": [
        "### Define train validation test date ranges"
      ],
      "metadata": {
        "id": "_PLry-TM0Xo9"
      }
    },
    {
      "cell_type": "code",
      "source": [
        "# specify training date range\n",
        "end_train_date = '2017-12-31'\n",
        "end_valid_date = '2020-12-31'"
      ],
      "metadata": {
        "id": "nR_Nyqpb0mwh"
      },
      "execution_count": 9,
      "outputs": []
    },
    {
      "cell_type": "markdown",
      "source": [
        "### Define target variable\n",
        "\n",
        "- 1 and 0 holds no specific meaning (arbitrary) and could be the other way around but this is more intuitive"
      ],
      "metadata": {
        "id": "Z6DNhLuo2I5_"
      }
    },
    {
      "cell_type": "code",
      "source": [
        "# define spread categorical classes\n",
        "main_df['return_1t'] = main_df['Close'].pct_change() * 100\n",
        "main_df['return_class'] = main_df['return_1t'].apply(lambda x: 1 if x > 0 else 0)\n",
        "\n",
        "# create target variable y\n",
        "main_df['y'] = main_df['return_class'].shift(-1)\n",
        "\n",
        "# drop missing rows\n",
        "main_df.dropna(inplace=True)"
      ],
      "metadata": {
        "id": "GoZEm6KW2Mtx"
      },
      "execution_count": 10,
      "outputs": []
    },
    {
      "cell_type": "markdown",
      "source": [
        "### Check class imbalance\n",
        "\n",
        "Financial returns are stationary. therwfore  we should expect positive and negative returns to be balanced."
      ],
      "metadata": {
        "id": "Um1PJ_G10uY6"
      }
    },
    {
      "cell_type": "code",
      "source": [
        "# display stationarity of returns\n",
        "main_df['return_1t'][:end_valid_date].plot()\n",
        "plt.title('CME soybean futures daily returns')\n",
        "plt.ylabel('Returns (%)')\n",
        "plt.show()\n",
        "\n",
        "# clean up column\n",
        "main_df.drop('return_1t', axis=1, inplace=True)"
      ],
      "metadata": {
        "colab": {
          "base_uri": "https://localhost:8080/",
          "height": 444
        },
        "id": "QbHs53CPYb-U",
        "outputId": "1d37047e-9c51-49c0-dd34-4962c281c7d6"
      },
      "execution_count": 11,
      "outputs": [
        {
          "output_type": "display_data",
          "data": {
            "text/plain": [
              "<Figure size 640x480 with 1 Axes>"
            ],
            "image/png": "[encoded data removed]"
          },
          "metadata": {}
        }
      ]
    },
    {
      "cell_type": "code",
      "source": [
        "# check class imbalance\n",
        "print(f\"\"\"\n",
        "    Positive class: {main_df['y'][:end_valid_date].value_counts(normalize=True)[1]:.4f}\n",
        "    Negative class: {main_df['y'][:end_valid_date].value_counts(normalize=True)[0]:.4f}\n",
        "\"\"\")"
      ],
      "metadata": {
        "colab": {
          "base_uri": "https://localhost:8080/"
        },
        "id": "bs-vvtETsvnW",
        "outputId": "a671f1d8-7c77-4a68-cc54-5e8330e0a9bc"
      },
      "execution_count": 12,
      "outputs": [
        {
          "output_type": "stream",
          "name": "stdout",
          "text": [
            "\n",
            "    Positive class: 0.5150\n",
            "    Negative class: 0.4850\n",
            "\n"
          ]
        }
      ]
    },
    {
      "cell_type": "markdown",
      "source": [
        "## Feature engineering"
      ],
      "metadata": {
        "id": "cB6XIfmU3VgO"
      }
    },
    {
      "cell_type": "markdown",
      "source": [
        "### Return features"
      ],
      "metadata": {
        "id": "O08PctE_FtJk"
      }
    },
    {
      "cell_type": "code",
      "source": [
        "def return_features(df, columns, periods):\n",
        "\n",
        "    # compute percentage changes between periods\n",
        "    for period in range(1, periods+1):\n",
        "        new_cols = [f'{col}_return_{period}t' for col in columns]\n",
        "        df[new_cols] = df[columns].pct_change(periods=period)\n",
        "\n",
        "    return df"
      ],
      "metadata": {
        "id": "Q4bo_a6RFu8H"
      },
      "execution_count": 13,
      "outputs": []
    },
    {
      "cell_type": "markdown",
      "source": [
        "### Rolling features"
      ],
      "metadata": {
        "id": "IGuDOntQFyn3"
      }
    },
    {
      "cell_type": "code",
      "source": [
        "def rolling_features(df, columns, windows):\n",
        "\n",
        "    # define column names\n",
        "    mean_cols = [f'{col}_mean' for col in columns]\n",
        "    std_cols = [f'{col}_std' for col in columns]\n",
        "    min_cols = [f'{col}_min' for col in columns]\n",
        "    max_cols = [f'{col}_max' for col in columns]\n",
        "\n",
        "    # add rolling mean, std, min and max features\n",
        "    for window in windows:\n",
        "\n",
        "        mean_colnames = [f'{col}_{window}t' for col in mean_cols]\n",
        "        df[mean_colnames] = df[columns].rolling(window=window).mean()\n",
        "\n",
        "        std_colnames = [f'{col}_{window}t' for col in std_cols]\n",
        "        df[std_colnames] = df[columns].rolling(window=window).std()\n",
        "\n",
        "        min_colnames = [f'{col}_{window}t' for col in min_cols]\n",
        "        df[min_colnames] = df[columns].rolling(window=window).min()\n",
        "\n",
        "        max_colnames = [f'{col}_{window}t' for col in max_cols]\n",
        "        df[max_colnames] = df[columns].rolling(window=window).max()\n",
        "\n",
        "    return df"
      ],
      "metadata": {
        "id": "t6Aq0j5TF01k"
      },
      "execution_count": 14,
      "outputs": []
    },
    {
      "cell_type": "markdown",
      "source": [
        "### Lagged features"
      ],
      "metadata": {
        "id": "F7WifPIMlqp1"
      }
    },
    {
      "cell_type": "code",
      "source": [
        "def lagged_features(df, columns, lags):\n",
        "\n",
        "    # create columns containing lagged values\n",
        "    for lag in range(1, lags+1):\n",
        "        new_cols = [f'{col}_t-{lag}' for col in columns]\n",
        "        df[new_cols] = df[columns].shift(periods=lag)\n",
        "\n",
        "    return df"
      ],
      "metadata": {
        "id": "gDebiieglttP"
      },
      "execution_count": 15,
      "outputs": []
    },
    {
      "cell_type": "markdown",
      "source": [
        "### Custom features"
      ],
      "metadata": {
        "id": "K3ItbrXSFn2W"
      }
    },
    {
      "cell_type": "code",
      "source": [
        "def custom_features(df):\n",
        "\n",
        "    # add max-min range features\n",
        "    df['Close_return_5t_min_max_range'] = df['Close_return_1t_max_5t'] - df['Close_return_1t_min_5t']\n",
        "    df['Close_return_10t_min_max_range'] = df['Close_return_1t_max_10t'] - df['Close_return_1t_min_10t']\n",
        "    df['Close_return_20t_min_max_range'] = df['Close_return_1t_max_20t'] - df['Close_return_1t_min_20t']\n",
        "    df['Close_return_30t_min_max_range'] = df['Close_return_1t_max_30t'] - df['Close_return_1t_min_30t']\n",
        "    df['Close_return_40t_min_max_range'] = df['Close_return_1t_max_40t'] - df['Close_return_1t_min_40t']\n",
        "\n",
        "    # add moving average crossover features\n",
        "    df['Close_return_long_med_macd'] = df['Close_return_1t_mean_20t'] - df['Close_return_1t_mean_10t']\n",
        "    df['Close_return_long_short_macd'] = df['Close_return_1t_mean_20t'] - df['Close_return_1t_mean_5t']\n",
        "    df['Close_return_med_short_macd'] = df['Close_return_1t_mean_10t'] - df['Close_return_1t_mean_5t']\n",
        "\n",
        "    # add oscillator features\n",
        "    df['Close_return_5t_rsi'] = df['Close_return_1t'] / df['Close_return_1t_max_5t']\n",
        "    df['Close_return_10t_rsi'] = df['Close_return_1t'] / df['Close_return_1t_max_10t']\n",
        "    df['Close_return_20t_rsi'] = df['Close_return_1t'] / df['Close_return_1t_max_20t']\n",
        "    df['Close_return_30t_rsi'] = df['Close_return_1t'] / df['Close_return_1t_max_30t']\n",
        "    df['Close_return_40t_rsi'] = df['Close_return_1t'] / df['Close_return_1t_max_40t']\n",
        "\n",
        "    # add z-score features\n",
        "    df['Close_return_5t_zscore'] = (df['Close_return_1t'] - df['Close_return_1t_mean_5t']) / df['Close_return_1t_std_5t']\n",
        "    df['Close_return_10t_zscore'] = (df['Close_return_1t'] - df['Close_return_1t_mean_10t']) / df['Close_return_1t_std_10t']\n",
        "    df['Close_return_20t_zscore'] = (df['Close_return_1t'] - df['Close_return_1t_mean_20t']) / df['Close_return_1t_std_20t']\n",
        "    df['Close_return_30t_zscore'] = (df['Close_return_1t'] - df['Close_return_1t_mean_30t']) / df['Close_return_1t_std_30t']\n",
        "    df['Close_return_40t_zscore'] = (df['Close_return_1t'] - df['Close_return_1t_mean_40t']) / df['Close_return_1t_std_40t']\n",
        "\n",
        "    return df"
      ],
      "metadata": {
        "id": "JfuEiRZfVfOj"
      },
      "execution_count": 16,
      "outputs": []
    },
    {
      "cell_type": "markdown",
      "source": [
        "## Augment dataset"
      ],
      "metadata": {
        "id": "VS--B9EK3WOY"
      }
    },
    {
      "cell_type": "code",
      "source": [
        "# number of periods and list of features for which to calculate returns\n",
        "return_periods_far = 10\n",
        "return_cols_far = ['Close']\n",
        "return_periods_near = 5\n",
        "return_cols_near = ['Open', 'High', 'Low', 'Volume']\n",
        "\n",
        "# window horizon and list of features for which to calculate rolling statistics\n",
        "rolling_windows = [5, 10, 20, 30, 40]\n",
        "rolling_cols = ['Close_return_1t']\n",
        "\n",
        "# number of lags and list of features on which to perform lagged operation\n",
        "lagged_periods = 10\n",
        "lagged_cols = ['Close_return_1t', 'return_class']"
      ],
      "metadata": {
        "id": "X9JZST24pGiZ"
      },
      "execution_count": 17,
      "outputs": []
    },
    {
      "cell_type": "code",
      "source": [
        "def feature_engineering(df):\n",
        "\n",
        "    # feature engineering steps to perform sequentially\n",
        "    df = return_features(df, return_cols_far, return_periods_far)\n",
        "    df = return_features(df, return_cols_near, return_periods_near)\n",
        "    df = rolling_features(df, rolling_cols, rolling_windows)\n",
        "    df = lagged_features(df, lagged_cols, lagged_periods)\n",
        "    df = custom_features(df)\n",
        "\n",
        "    return df"
      ],
      "metadata": {
        "id": "s27UCzpHJvfv"
      },
      "execution_count": 18,
      "outputs": []
    },
    {
      "cell_type": "code",
      "source": [
        "# run main df through our custom feature engineering pipeline\n",
        "main_df = feature_engineering(main_df)\n",
        "\n",
        "# display dataframe size\n",
        "print(f'DataFrame rows by columns: {main_df.shape}')"
      ],
      "metadata": {
        "colab": {
          "base_uri": "https://localhost:8080/"
        },
        "id": "uSm0ABjBJxTC",
        "outputId": "c5ad944e-3eed-43f9-c9d9-51913f4ddc15"
      },
      "execution_count": 19,
      "outputs": [
        {
          "output_type": "stream",
          "name": "stdout",
          "text": [
            "DataFrame rows by columns: (5879, 95)\n"
          ]
        }
      ]
    },
    {
      "cell_type": "markdown",
      "source": [
        "### Handle uninformative features"
      ],
      "metadata": {
        "id": "kJphDm9PFRfT"
      }
    },
    {
      "cell_type": "code",
      "source": [
        "# drop uninformative absolute value features\n",
        "prices = main_df['Close'] # keep variable for later plotting\n",
        "main_df.drop((return_cols_near + ['Close']), axis=1, inplace=True)"
      ],
      "metadata": {
        "id": "rLdPjySlhlgH"
      },
      "execution_count": 20,
      "outputs": []
    },
    {
      "cell_type": "markdown",
      "source": [
        "### Handle missing values"
      ],
      "metadata": {
        "id": "bjeWC1nkLpDM"
      }
    },
    {
      "cell_type": "code",
      "source": [
        "# handle missing values\n",
        "main_df.replace([np.inf, -np.inf], np.nan, inplace=True)\n",
        "main_df.ffill(inplace=True)\n",
        "main_df.dropna(inplace=True)"
      ],
      "metadata": {
        "id": "2jCpLsomLrIr"
      },
      "execution_count": 21,
      "outputs": []
    },
    {
      "cell_type": "markdown",
      "source": [
        "## Train validation test split"
      ],
      "metadata": {
        "id": "aRu10UMB3WZW"
      }
    },
    {
      "cell_type": "code",
      "source": [
        "# specify date for end of training data\n",
        "train_df = main_df[:end_train_date]\n",
        "valid_df = main_df[end_train_date:end_valid_date]\n",
        "train_valid_df = main_df[:end_valid_date]\n",
        "test_df = main_df[end_valid_date:]\n",
        "\n",
        "# split training data into X and y\n",
        "X_train = train_df.drop('y', axis=1)\n",
        "y_train = train_df['y']\n",
        "\n",
        "# split validation data into X and y\n",
        "X_valid = valid_df.drop('y', axis=1)\n",
        "y_valid = valid_df['y']\n",
        "\n",
        "# split training+validation data into X and y\n",
        "X_train_valid = train_valid_df.drop('y', axis=1)\n",
        "y_train_valid = train_valid_df['y']\n",
        "\n",
        "# split test data into X and y\n",
        "X_test = test_df.drop('y', axis=1)\n",
        "y_test = test_df['y']"
      ],
      "metadata": {
        "id": "pzpJmeSg3Wt4"
      },
      "execution_count": 22,
      "outputs": []
    },
    {
      "cell_type": "markdown",
      "source": [
        "## Set up pipeline"
      ],
      "metadata": {
        "id": "VPvBln3uvCcc"
      }
    },
    {
      "cell_type": "code",
      "source": [
        "# preprocessing for numerical variables\n",
        "numerical_transformer = make_pipeline(\n",
        "    SimpleImputer(strategy='median', add_indicator=True),\n",
        "    StandardScaler(),\n",
        ")\n",
        "\n",
        "# preprocessing for categorical variables\n",
        "categorical_transformer = make_pipeline(\n",
        "    OneHotEncoder(drop='first', handle_unknown='ignore'),\n",
        ")\n",
        "\n",
        "# combine above two preprocessing steps into one pipeline step\n",
        "preprocessor = make_column_transformer(\n",
        "    (numerical_transformer, make_column_selector(dtype_exclude='category')),\n",
        "    (categorical_transformer, make_column_selector(dtype_include='category')),\n",
        ")"
      ],
      "metadata": {
        "id": "THH0k19cyy4F"
      },
      "execution_count": 23,
      "outputs": []
    },
    {
      "cell_type": "markdown",
      "source": [
        "## Instantiate models\n",
        "\n",
        "- discuss different model families make different errors\n",
        "- width leaf wise growth vs depth wise growth\n",
        "- LR is linear parametric\n",
        "- KNN is nonlinear nonparametric\n",
        "- remaining two tree based"
      ],
      "metadata": {
        "id": "NFf90DGj2dcy"
      }
    },
    {
      "cell_type": "markdown",
      "source": [
        "### Logistic regression"
      ],
      "metadata": {
        "id": "XveKPYqd2isL"
      }
    },
    {
      "cell_type": "code",
      "source": [
        "# instantiate pipeline with logistic regression\n",
        "logreg_clf = make_pipeline(\n",
        "    preprocessor,\n",
        "    LogisticRegression(\n",
        "        random_state=42,\n",
        "        n_jobs=-1,\n",
        "    ),\n",
        ")\n",
        "\n",
        "# hyperparameter search space for logistic regression model\n",
        "logreg_clf_params = {\n",
        "    'logisticregression__penalty': ['l1', 'l2'],\n",
        "    'logisticregression__C': scipy.stats.reciprocal(0.01, 100),\n",
        "    'logisticregression__class_weight': [None, 'balanced'],\n",
        "    'logisticregression__solver': ['liblinear', 'saga']\n",
        "}"
      ],
      "metadata": {
        "id": "xzFeWIA926UQ"
      },
      "execution_count": 24,
      "outputs": []
    },
    {
      "cell_type": "markdown",
      "source": [
        "### KNN classifier\n",
        "\n",
        "- K-Nearest Neighbors (KNN) is a non-parametric and lazy learning algorithm\n",
        "- It doesn't assume a specific form for the decision boundary"
      ],
      "metadata": {
        "id": "q23oLgWD2g9k"
      }
    },
    {
      "cell_type": "code",
      "source": [
        "# instantiate pipeline with knn classifier\n",
        "knn_clf = make_pipeline(\n",
        "    preprocessor,\n",
        "    KNeighborsClassifier(n_jobs=-1),\n",
        ")\n",
        "\n",
        "# hyperparameter search space for knn classifier model\n",
        "knn_clf_params = {\n",
        "    'kneighborsclassifier__n_neighbors': scipy.stats.randint(5, 51),\n",
        "    'kneighborsclassifier__weights': ['uniform', 'distance'],\n",
        "    'kneighborsclassifier__p': [1.0, 1.5, 2.0],\n",
        "}"
      ],
      "metadata": {
        "id": "--lkBQS33AfQ"
      },
      "execution_count": 25,
      "outputs": []
    },
    {
      "cell_type": "markdown",
      "source": [
        "### XGBoost classifier"
      ],
      "metadata": {
        "id": "tz6Mv9jN2iEf"
      }
    },
    {
      "cell_type": "code",
      "source": [
        "# instantiate xgboost classifier\n",
        "xgb_clf = make_pipeline(\n",
        "    preprocessor,\n",
        "    xgb.XGBClassifier(\n",
        "        n_estimators=100,\n",
        "        random_state=42,\n",
        "        objective='binary:logistic',\n",
        "        importance_type='gain',\n",
        "        verbosity=0,\n",
        "        n_jobs=-1,\n",
        "    )\n",
        ")\n",
        "\n",
        "# hyperparameter search space for xgboost classifier model\n",
        "xgb_clf_params = {\n",
        "    'xgbclassifier__max_depth': scipy.stats.randint(2, 11),\n",
        "    'xgbclassifier__learning_rate': [0.01, 0.1, 0.2, 0.3, 0.4],\n",
        "    'xgbclassifier__reg_alpha': [0., 0.1, 0.25, 0.5, 1.0, 1.5],\n",
        "    'xgbclassifier__reg_lambda': [0., 0.25, 0.5, 1.0, 1.5, 2.0],\n",
        "}"
      ],
      "metadata": {
        "id": "-tX0Zvs_3B0-"
      },
      "execution_count": 26,
      "outputs": []
    },
    {
      "cell_type": "markdown",
      "source": [
        "### LightGBM classifier"
      ],
      "metadata": {
        "id": "W76ehQdg2hz3"
      }
    },
    {
      "cell_type": "code",
      "source": [
        "# instantiate lightgbm classifier\n",
        "lgb_clf = make_pipeline(\n",
        "    preprocessor,\n",
        "    lgb.LGBMClassifier(\n",
        "        n_estimators=100,\n",
        "        random_state=42,\n",
        "        objective='binary',\n",
        "        importance_type='gain',\n",
        "        verbosity=-1,\n",
        "        n_jobs=-1,\n",
        "    )\n",
        ")\n",
        "\n",
        "# hyperparameter search space for lightgbm classifier model\n",
        "lgb_clf_params = {\n",
        "    'lgbmclassifier__num_leaves': [16, 32, 64],\n",
        "    'lgbmclassifier__learning_rate': [0.01, 0.1, 0.15],\n",
        "    'lgbmclassifier__min_child_samples': scipy.stats.randint(10, 31),\n",
        "    'lgbmclassifier__reg_alpha': [0., 0.1, 0.25, 0.5, 1.0, 1.5],\n",
        "    'lgbmclassifier__reg_lambda': [0., 0.25, 0.5, 1.0, 1.5, 2.0],\n",
        "}"
      ],
      "metadata": {
        "id": "8C_6jl6C3VN3"
      },
      "execution_count": 27,
      "outputs": []
    },
    {
      "cell_type": "markdown",
      "source": [
        "# Training"
      ],
      "metadata": {
        "id": "AjCIbakjLMOt"
      }
    },
    {
      "cell_type": "markdown",
      "source": [
        "## Hyperparameter tuning"
      ],
      "metadata": {
        "id": "N1eMcD7-mLvS"
      }
    },
    {
      "cell_type": "code",
      "source": [
        "# time series cross validation\n",
        "tscv = TimeSeriesSplit(n_splits=4, test_size=252) # four test folds of approx one year each"
      ],
      "metadata": {
        "id": "nH8t1Z684Dsp"
      },
      "execution_count": 28,
      "outputs": []
    },
    {
      "cell_type": "code",
      "source": [
        "def tune_hyperparams(estimator, param_dist, name, display=True):\n",
        "\n",
        "    # perform a randomised grid search with 30 iterations\n",
        "    rscv = RandomizedSearchCV(\n",
        "        estimator=estimator,\n",
        "        param_distributions=param_dist,\n",
        "        n_iter=30,\n",
        "        scoring='precision',\n",
        "        cv=tscv,\n",
        "        verbose=0,\n",
        "        random_state=42,\n",
        "    )\n",
        "\n",
        "    # fit randomised grid search cv object to training data\n",
        "    rscv.fit(X_train, y_train)\n",
        "\n",
        "    if display:\n",
        "\n",
        "        # display best hyperparameter combo\n",
        "        print(f'Best hyperparameters for {name}')\n",
        "        print('- - -')\n",
        "        for param, value in rscv.best_params_.items():\n",
        "            print(f'{param}: {value}')\n",
        "\n",
        "        # display performance metrics\n",
        "        print(f\"\"\"\n",
        "        Cross-validated precision score\n",
        "        - - -\n",
        "        Mean: \\t\\t{rscv.cv_results_['mean_test_score'][rscv.best_index_]:.3f}\n",
        "        Std dev: \\t{rscv.cv_results_['std_test_score'][rscv.best_index_]:.3f}\n",
        "        \"\"\")\n",
        "\n",
        "    return rscv.best_estimator_"
      ],
      "metadata": {
        "id": "Vmo3YNIuN5-q"
      },
      "execution_count": 29,
      "outputs": []
    },
    {
      "cell_type": "markdown",
      "source": [
        "### Individual model evaluation"
      ],
      "metadata": {
        "id": "VVCe6tELGuWX"
      }
    },
    {
      "cell_type": "code",
      "source": [
        "%%time\n",
        "logreg_clf_tuned = tune_hyperparams(logreg_clf, logreg_clf_params, 'Logistic Regression Classifier')"
      ],
      "metadata": {
        "colab": {
          "base_uri": "https://localhost:8080/"
        },
        "id": "AjpAywLeur_K",
        "outputId": "bf008be8-51e2-4b86-82c4-23b7c9e6f64d"
      },
      "execution_count": 30,
      "outputs": [
        {
          "output_type": "stream",
          "name": "stdout",
          "text": [
            "Best hyperparameters for Logistic Regression Classifier\n",
            "- - -\n",
            "logisticregression__C: 0.0838639478040256\n",
            "logisticregression__class_weight: balanced\n",
            "logisticregression__penalty: l1\n",
            "logisticregression__solver: saga\n",
            "\n",
            "        Cross-validated precision score\n",
            "        - - -\n",
            "        Mean: \t\t0.509\n",
            "        Std dev: \t0.046\n",
            "        \n",
            "CPU times: user 2min 56s, sys: 12.6 s, total: 3min 9s\n",
            "Wall time: 3min 10s\n"
          ]
        }
      ]
    },
    {
      "cell_type": "code",
      "source": [
        "%%time\n",
        "knn_clf_tuned = tune_hyperparams(knn_clf, knn_clf_params, 'KNN Classifier')"
      ],
      "metadata": {
        "colab": {
          "base_uri": "https://localhost:8080/"
        },
        "id": "AJmlloXfusro",
        "outputId": "454b7657-7e37-44c4-ab4a-b8eff2fa2258"
      },
      "execution_count": 31,
      "outputs": [
        {
          "output_type": "stream",
          "name": "stdout",
          "text": [
            "Best hyperparameters for KNN Classifier\n",
            "- - -\n",
            "kneighborsclassifier__n_neighbors: 7\n",
            "kneighborsclassifier__p: 1.0\n",
            "kneighborsclassifier__weights: uniform\n",
            "\n",
            "        Cross-validated precision score\n",
            "        - - -\n",
            "        Mean: \t\t0.508\n",
            "        Std dev: \t0.028\n",
            "        \n",
            "CPU times: user 3min 30s, sys: 778 ms, total: 3min 30s\n",
            "Wall time: 2min 4s\n"
          ]
        }
      ]
    },
    {
      "cell_type": "code",
      "source": [
        "%%time\n",
        "xgb_clf_tuned = tune_hyperparams(xgb_clf, xgb_clf_params, 'XGBoost Classifier')"
      ],
      "metadata": {
        "colab": {
          "base_uri": "https://localhost:8080/"
        },
        "id": "9KUwA9_autQh",
        "outputId": "23442854-3c1c-4423-a27d-3c26521ad5ea"
      },
      "execution_count": 32,
      "outputs": [
        {
          "output_type": "stream",
          "name": "stdout",
          "text": [
            "Best hyperparameters for XGBoost Classifier\n",
            "- - -\n",
            "xgbclassifier__learning_rate: 0.1\n",
            "xgbclassifier__max_depth: 6\n",
            "xgbclassifier__reg_alpha: 0.1\n",
            "xgbclassifier__reg_lambda: 1.0\n",
            "\n",
            "        Cross-validated precision score\n",
            "        - - -\n",
            "        Mean: \t\t0.512\n",
            "        Std dev: \t0.034\n",
            "        \n",
            "CPU times: user 10min 19s, sys: 4.6 s, total: 10min 23s\n",
            "Wall time: 5min 47s\n"
          ]
        }
      ]
    },
    {
      "cell_type": "code",
      "source": [
        "%%time\n",
        "lgb_clf_tuned = tune_hyperparams(lgb_clf, lgb_clf_params, 'LightGBM Classifier')"
      ],
      "metadata": {
        "colab": {
          "base_uri": "https://localhost:8080/"
        },
        "id": "VRBrjlcdqg-h",
        "outputId": "b5034dea-0e65-40b4-c2db-bc062a478a39"
      },
      "execution_count": 33,
      "outputs": [
        {
          "output_type": "stream",
          "name": "stdout",
          "text": [
            "Best hyperparameters for LightGBM Classifier\n",
            "- - -\n",
            "lgbmclassifier__learning_rate: 0.1\n",
            "lgbmclassifier__min_child_samples: 13\n",
            "lgbmclassifier__num_leaves: 32\n",
            "lgbmclassifier__reg_alpha: 1.5\n",
            "lgbmclassifier__reg_lambda: 1.0\n",
            "\n",
            "        Cross-validated precision score\n",
            "        - - -\n",
            "        Mean: \t\t0.512\n",
            "        Std dev: \t0.036\n",
            "        \n",
            "CPU times: user 5min 36s, sys: 1.35 s, total: 5min 37s\n",
            "Wall time: 3min 9s\n"
          ]
        }
      ]
    },
    {
      "cell_type": "markdown",
      "source": [
        "## Ensembling models\n",
        "\n",
        "Stacking refers to a method to blend estimators. In this strategy, some estimators are individually fitted on some training data while a final estimator is trained using the stacked predictions of these base estimators.\n",
        "\n",
        "Stacked generalization consists in stacking the output of individual estimator and use a classifier to compute the final prediction. Stacking allows to use the strength of each individual estimator by using their output as input of a final estimator.\n",
        "\n",
        "hardvoting no longer really used as superseded by more advanced methods\n",
        "\n",
        "talk about predict_proba and meta voting"
      ],
      "metadata": {
        "id": "l_AoP9Wbzoxc"
      }
    },
    {
      "cell_type": "code",
      "source": [
        "# collect classifier models into a list\n",
        "estimators = [\n",
        "    (\"logreg_clf\", logreg_clf_tuned),\n",
        "    (\"knn_clf\", knn_clf_tuned),\n",
        "    (\"xgb_clf\", xgb_clf_tuned),\n",
        "    (\"lgb_clf\", lgb_clf_tuned),\n",
        "]"
      ],
      "metadata": {
        "id": "G2X5h9yBy85j"
      },
      "execution_count": 34,
      "outputs": []
    },
    {
      "cell_type": "code",
      "source": [
        "# instantiate voting classifier ensemble model\n",
        "voting_clf  = VotingClassifier(\n",
        "    estimators=estimators,\n",
        "    voting='soft',\n",
        "    n_jobs=-1,\n",
        ")"
      ],
      "metadata": {
        "id": "DFHFloNCPsGc"
      },
      "execution_count": 35,
      "outputs": []
    },
    {
      "cell_type": "markdown",
      "source": [
        "### Voting classifier evaluation\n",
        "\n",
        "- As a side-note, the F1 score is inherently skewed because it does not account for true negatives.\n",
        "- balanced accuracy because equal emphasis on true positives and true negatives, mitigates any remaining class imbalance through weighting, it is the average of the recall for each of the binary classes\n",
        "- BA formula is 1/2 * (tp/tp+fp + tn/tn+fn)\n",
        "- balanced accuracy of 0.5 is random guessing\n",
        "- F1 score doesn’t care about how many true negatives are being classified. When working on an imbalanced dataset that demands attention to the negatives, Balanced Accuracy does better than F1.\n",
        "- In cases where positives are as important as negatives, balanced accuracy is a better metric for this than F1. F1 is a great scoring metric for imbalanced data when more attention is needed on the positives.\n",
        "- You should use it when you care equally about positive and negative classes. It naturally extends the imbalanced data discussion from the last section. If we care about true negatives as much as we care about true positives then it totally makes sense to use ROC AUC."
      ],
      "metadata": {
        "id": "uovNKw5uGmaA"
      }
    },
    {
      "cell_type": "code",
      "source": [
        "%%time\n",
        "\n",
        "# compute mean cross-validated precision score\n",
        "scores = cross_val_score(\n",
        "    estimator=voting_clf,\n",
        "    X=X_train,\n",
        "    y=y_train,\n",
        "    scoring='precision',\n",
        "    cv=tscv,\n",
        "    n_jobs=-1,\n",
        ")\n",
        "\n",
        "# display mean and std of voting clf\n",
        "print(f\"\"\"\n",
        "    Cross-validated precision score\n",
        "    of voting classifier ensemble\n",
        "    - - -\n",
        "    Mean: \\t{scores.mean():.3f}\n",
        "    Std dev: \\t{scores.std():.3f}\n",
        "\"\"\")"
      ],
      "metadata": {
        "colab": {
          "base_uri": "https://localhost:8080/"
        },
        "id": "6y2Kt7kuPKMX",
        "outputId": "554aa3ff-8d5b-45c4-a269-22aa6c43614d"
      },
      "execution_count": 36,
      "outputs": [
        {
          "output_type": "stream",
          "name": "stdout",
          "text": [
            "\n",
            "    Cross-validated precision score\n",
            "    of voting classifier ensemble\n",
            "    - - -\n",
            "    Mean: \t0.516\n",
            "    Std dev: \t0.028\n",
            "\n",
            "CPU times: user 313 ms, sys: 121 ms, total: 434 ms\n",
            "Wall time: 26.7 s\n"
          ]
        }
      ]
    },
    {
      "cell_type": "markdown",
      "source": [
        "# Validation"
      ],
      "metadata": {
        "id": "x1z7xdd_LVi0"
      }
    },
    {
      "cell_type": "code",
      "source": [
        "%%capture\n",
        "\n",
        "# fit voting classifier on training set\n",
        "voting_clf.fit(X_train, y_train)"
      ],
      "metadata": {
        "id": "IGdmczCe_Oye"
      },
      "execution_count": 37,
      "outputs": []
    },
    {
      "cell_type": "code",
      "source": [
        "def adjust_threshold(X, y, train_valid_test, threshold=0.5):\n",
        "\n",
        "    # use voting classifier to predict\n",
        "    y_pred = voting_clf.predict_proba(X)[:, 1]\n",
        "    y_pred[y_pred >= threshold] = 1\n",
        "    y_pred[y_pred < threshold] = 0\n",
        "\n",
        "    # show metrics\n",
        "    print(f\"\"\"\n",
        "        VOTING CLASSIFIER ENSEMBLE\n",
        "        Performance metrics on {train_valid_test} set\n",
        "        - - -\n",
        "        Classification threshold: \\t{threshold}\n",
        "        Precision score: \\t\\t{precision_score(y, y_pred):.3f}\n",
        "        # of trading signals: \\t\\t{int(sum(y_pred))}\n",
        "        # of total trading days: \\t{len(y)}\n",
        "    \"\"\")"
      ],
      "metadata": {
        "id": "egcVfhBfCXdG"
      },
      "execution_count": 38,
      "outputs": []
    },
    {
      "cell_type": "code",
      "source": [
        "# performance metrics on validation set with default threshold\n",
        "adjust_threshold(X_valid, y_valid, 'validation')"
      ],
      "metadata": {
        "colab": {
          "base_uri": "https://localhost:8080/"
        },
        "id": "IefHpL0e1-tG",
        "outputId": "5db85d32-5e5e-40ad-c185-431c00771d9a"
      },
      "execution_count": 39,
      "outputs": [
        {
          "output_type": "stream",
          "name": "stdout",
          "text": [
            "\n",
            "        VOTING CLASSIFIER ENSEMBLE\n",
            "        Performance metrics on validation set\n",
            "        - - -\n",
            "        Classification threshold: \t0.5\n",
            "        Precision score: \t\t0.534\n",
            "        # of trading signals: \t\t436\n",
            "        # of total trading days: \t756\n",
            "    \n"
          ]
        }
      ]
    },
    {
      "cell_type": "markdown",
      "source": [
        "## Precision recall curve\n",
        "\n",
        "- Explain non monotonic nature of precision (and recall?) curve"
      ],
      "metadata": {
        "id": "l-LudYhjopzX"
      }
    },
    {
      "cell_type": "code",
      "source": [
        "# predict probabilities for the validation set\n",
        "y_pred = voting_clf.predict_proba(X_valid)[:, 1]\n",
        "\n",
        "# calculate precision-recall pairs and thresholds\n",
        "precision, recall, thresholds = precision_recall_curve(y_valid, y_pred)\n",
        "\n",
        "# plot precision against thresholds\n",
        "fig, ax1 = plt.subplots()\n",
        "color = 'tab:blue'\n",
        "ax1.set_xlabel('Threshold')\n",
        "ax1.set_ylabel('Precision', color=color)\n",
        "ax1.plot(thresholds, precision[:-1], label='Precision curve', color=color)\n",
        "ax1.tick_params(axis='y', labelcolor=color)\n",
        "\n",
        "# create a secondary y-axis for recall\n",
        "ax2 = ax1.twinx()\n",
        "color = 'tab:orange'\n",
        "ax2.set_ylabel('Recall', color=color)\n",
        "ax2.plot(thresholds, recall[:-1], label='Recall curve', color=color)\n",
        "ax2.tick_params(axis='y', labelcolor=color)\n",
        "\n",
        "# add gridlines\n",
        "ax1.grid(True, linestyle='--', alpha=0.7)\n",
        "\n",
        "# combine legends for both axes\n",
        "lines, labels = ax1.get_legend_handles_labels()\n",
        "lines2, labels2 = ax2.get_legend_handles_labels()\n",
        "ax2.legend(lines + lines2, labels + labels2, loc='lower left')\n",
        "\n",
        "# show plot\n",
        "plt.title('Precision and recall curves with thresholds')\n",
        "plt.show()"
      ],
      "metadata": {
        "colab": {
          "base_uri": "https://localhost:8080/",
          "height": 472
        },
        "id": "C5i-y-4FUi5N",
        "outputId": "fa4d36af-66df-488d-f025-2a890164fb70"
      },
      "execution_count": 40,
      "outputs": [
        {
          "output_type": "display_data",
          "data": {
            "text/plain": [
              "<Figure size 640x480 with 2 Axes>"
            ],
            "image/png": "[encoded data removed]"
          },
          "metadata": {}
        }
      ]
    },
    {
      "cell_type": "markdown",
      "source": [
        "## Adjust classification threshold"
      ],
      "metadata": {
        "id": "kDCTg6A7WtNs"
      }
    },
    {
      "cell_type": "code",
      "source": [
        "# performance metrics on validation set with adjusted threshold\n",
        "new_threshold = 0.62\n",
        "adjust_threshold(X_valid, y_valid, 'validation', new_threshold)"
      ],
      "metadata": {
        "colab": {
          "base_uri": "https://localhost:8080/"
        },
        "id": "mirRPGD52XJt",
        "outputId": "b062a914-64e4-4391-be2c-0041ee953e7b"
      },
      "execution_count": 41,
      "outputs": [
        {
          "output_type": "stream",
          "name": "stdout",
          "text": [
            "\n",
            "        VOTING CLASSIFIER ENSEMBLE\n",
            "        Performance metrics on validation set\n",
            "        - - -\n",
            "        Classification threshold: \t0.62\n",
            "        Precision score: \t\t0.541\n",
            "        # of trading signals: \t\t74\n",
            "        # of total trading days: \t756\n",
            "    \n"
          ]
        }
      ]
    },
    {
      "cell_type": "markdown",
      "source": [
        "# Testing"
      ],
      "metadata": {
        "id": "bf3VHlknLhV5"
      }
    },
    {
      "cell_type": "code",
      "source": [
        "%%capture\n",
        "\n",
        "# fit voting classifier on training set\n",
        "voting_clf.fit(X_train_valid, y_train_valid)"
      ],
      "metadata": {
        "id": "jRv50SaTcxoM"
      },
      "execution_count": 42,
      "outputs": []
    },
    {
      "cell_type": "markdown",
      "source": [
        "## Dummy classifier"
      ],
      "metadata": {
        "id": "eC3SmNPoPpMb"
      }
    },
    {
      "cell_type": "code",
      "source": [
        "# instantiate and fit dummy classifier on training+validation set\n",
        "dummy_clf = DummyClassifier(strategy='constant', constant=1)\n",
        "dummy_clf.fit(X_train_valid, y_train_valid)\n",
        "\n",
        "# use dummy classifier to predict on test set\n",
        "y_pred = dummy_clf.predict(X_test)\n",
        "\n",
        "# show metrics\n",
        "print(f\"\"\"\n",
        "        DUMMY CLASSIFIER\n",
        "        Performance metrics on test set\n",
        "        - - -\n",
        "        Classification threshold: \\t0.5\n",
        "        Precision score: \\t\\t{precision_score(y_test, y_pred):.3f}\n",
        "        # of trading signals: \\t\\t{int(sum(y_pred))}\n",
        "        # of total trading days: \\t{len(y_test)}\n",
        "    \"\"\")"
      ],
      "metadata": {
        "colab": {
          "base_uri": "https://localhost:8080/"
        },
        "id": "pWZU7yqJPvD2",
        "outputId": "798b20a3-ef34-41b8-f189-0ee31984adfb"
      },
      "execution_count": 43,
      "outputs": [
        {
          "output_type": "stream",
          "name": "stdout",
          "text": [
            "\n",
            "        DUMMY CLASSIFIER\n",
            "        Performance metrics on test set\n",
            "        - - -\n",
            "        Classification threshold: \t0.5\n",
            "        Precision score: \t\t0.538\n",
            "        # of trading signals: \t\t775\n",
            "        # of total trading days: \t775\n",
            "    \n"
          ]
        }
      ]
    },
    {
      "cell_type": "markdown",
      "source": [
        "## Voting classifier"
      ],
      "metadata": {
        "id": "xx4tmjn7MOhW"
      }
    },
    {
      "cell_type": "code",
      "source": [
        "# use voting classifier to predict on test set\n",
        "y_pred = voting_clf.predict_proba(X_test)[:, 1]\n",
        "y_pred[y_pred >= new_threshold] = 1\n",
        "y_pred[y_pred < new_threshold] = 0"
      ],
      "metadata": {
        "id": "jDrPgYkBbpoS"
      },
      "execution_count": 44,
      "outputs": []
    },
    {
      "cell_type": "code",
      "source": [
        "adjust_threshold(X_test, y_test, 'test', new_threshold)"
      ],
      "metadata": {
        "colab": {
          "base_uri": "https://localhost:8080/"
        },
        "id": "kfU5E8Kl4N4B",
        "outputId": "b5faaa8d-9f5a-49f6-8b5e-62d08544b9cc"
      },
      "execution_count": 45,
      "outputs": [
        {
          "output_type": "stream",
          "name": "stdout",
          "text": [
            "\n",
            "        VOTING CLASSIFIER ENSEMBLE\n",
            "        Performance metrics on test set\n",
            "        - - -\n",
            "        Classification threshold: \t0.62\n",
            "        Precision score: \t\t0.550\n",
            "        # of trading signals: \t\t80\n",
            "        # of total trading days: \t775\n",
            "    \n"
          ]
        }
      ]
    },
    {
      "cell_type": "markdown",
      "source": [
        "## Confusion matrix"
      ],
      "metadata": {
        "id": "k5RW5Sloolit"
      }
    },
    {
      "cell_type": "code",
      "source": [
        "# display confusion matrix\n",
        "ConfusionMatrixDisplay.from_predictions(y_test, y_pred)\n",
        "plt.show()"
      ],
      "metadata": {
        "colab": {
          "base_uri": "https://localhost:8080/",
          "height": 449
        },
        "id": "1tL1cgHVbBt1",
        "outputId": "73653908-f39f-4f0c-da8b-f4d99316600b"
      },
      "execution_count": 46,
      "outputs": [
        {
          "output_type": "display_data",
          "data": {
            "text/plain": [
              "<Figure size 640x480 with 2 Axes>"
            ],
            "image/png": "[encoded data removed]"
          },
          "metadata": {}
        }
      ]
    },
    {
      "cell_type": "markdown",
      "source": [
        "# Building a trading strategy"
      ],
      "metadata": {
        "id": "QiR33a5kfLMR"
      }
    },
    {
      "cell_type": "markdown",
      "source": [
        "## Long only strategy"
      ],
      "metadata": {
        "id": "alesjflvgPw9"
      }
    },
    {
      "cell_type": "code",
      "source": [
        "# calculate long only pnl\n",
        "X_test['pnl_long'] = X_test['Close_return_1t'].shift(-1) * y_pred\n",
        "X_test['pnl_long'] = (1 + X_test['pnl_long']).cumprod() * 100\n",
        "\n",
        "# plot equity curve\n",
        "plt.figure(figsize=(8, 6))\n",
        "plt.title(f'Equity curve for long-only trading strategy\\nCME {ticker_name} futures')\n",
        "plt.ylabel('Cumulative returns (%)')\n",
        "X_test['pnl_long'].plot()\n",
        "plt.show()"
      ],
      "metadata": {
        "colab": {
          "base_uri": "https://localhost:8080/",
          "height": 558
        },
        "id": "Ks-iONNndWnS",
        "outputId": "66bc0f7d-3c70-4980-e7bb-dd7b173af69f"
      },
      "execution_count": 55,
      "outputs": [
        {
          "output_type": "display_data",
          "data": {
            "text/plain": [
              "<Figure size 800x600 with 1 Axes>"
            ],
            "image/png": "[encoded data removed]"
          },
          "metadata": {}
        }
      ]
    },
    {
      "cell_type": "code",
      "source": [
        "# set up buy and hold dataframe\n",
        "prices = pd.DataFrame(prices[end_valid_date:])\n",
        "prices['returns'] = prices['Close'].pct_change()\n",
        "prices['equity'] = (1 + prices['returns']).cumprod() * 100\n",
        "\n",
        "# plot equity curve\n",
        "plt.figure(figsize=(8, 6))\n",
        "plt.title(f'Equity curve for buy-and-hold strategy\\nCME {ticker_name} futures')\n",
        "plt.ylabel('Cumulative returns (%)')\n",
        "prices['equity'].plot();\n",
        "plt.show()"
      ],
      "metadata": {
        "colab": {
          "base_uri": "https://localhost:8080/",
          "height": 558
        },
        "id": "GBngO9FQbc3P",
        "outputId": "ccf9ee02-5c0c-4ca1-bc6b-a37f2b705a3e"
      },
      "execution_count": 54,
      "outputs": [
        {
          "output_type": "display_data",
          "data": {
            "text/plain": [
              "<Figure size 800x600 with 1 Axes>"
            ],
            "image/png": "[encoded data removed]"
          },
          "metadata": {}
        }
      ]
    },
    {
      "cell_type": "markdown",
      "source": [
        "# Results\n",
        "\n",
        "- text here\n",
        "- and here"
      ],
      "metadata": {
        "id": "xgHTPXZqG5Ln"
      }
    },
    {
      "cell_type": "markdown",
      "source": [
        "# Next steps\n",
        "\n",
        "- build trees with more than 100 estimators\n",
        "- do bayesian hyperparam opt rather than randomgrid\n",
        "- if incorporating into trading strategy need to use predict proba to leverage inherent uncertainty around each prediction"
      ],
      "metadata": {
        "id": "_GW7v2_WG5vU"
      }
    },
    {
      "cell_type": "markdown",
      "source": [
        "# END"
      ],
      "metadata": {
        "id": "tLsUcWLwzM1R"
      }
    },
    {
      "cell_type": "code",
      "source": [
        "# dependencies\n",
        "%load_ext watermark\n",
        "%watermark --python --iversions"
      ],
      "metadata": {
        "id": "GHU6IV3VzNo4",
        "colab": {
          "base_uri": "https://localhost:8080/"
        },
        "outputId": "2feab9aa-866d-4c01-8086-dc6665e02758"
      },
      "execution_count": 49,
      "outputs": [
        {
          "output_type": "stream",
          "name": "stdout",
          "text": [
            "Python implementation: CPython\n",
            "Python version       : 3.10.12\n",
            "IPython version      : 7.34.0\n",
            "\n",
            "scipy     : 1.11.4\n",
            "xgboost   : 2.0.3\n",
            "matplotlib: 3.7.1\n",
            "yfinance  : 0.2.36\n",
            "numpy     : 1.23.5\n",
            "pandas    : 1.5.3\n",
            "lightgbm  : 4.1.0\n",
            "\n"
          ]
        }
      ]
    },
    {
      "cell_type": "markdown",
      "source": [
        "**Author: Vladimir Zinkovski**\n",
        "\n",
        "Send an email: *vladimir.zinkovski@gmail.com*\n",
        "\n",
        "Or connect with me on: [LinkedIn](https://www.linkedin.com/in/vladimir-zinkovski/)"
      ],
      "metadata": {
        "id": "_Ld0gwMxzZNR"
      }
    }
  ]
}