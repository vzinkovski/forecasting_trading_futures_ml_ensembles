{
  "cells": [
    {
      "cell_type": "markdown",
      "metadata": {
        "id": "view-in-github",
        "colab_type": "text"
      },
      "source": [
        "<a href=\"https://colab.research.google.com/github/vzinkovski/forecasting_trading_futures_ml_ensembles/blob/main/forecasting_trading_soybean_futures_ml_ensembles.ipynb\" target=\"_parent\"><img src=\"https://colab.research.google.com/assets/colab-badge.svg\" alt=\"Open In Colab\"/></a>"
      ]
    },
    {
      "cell_type": "markdown",
      "metadata": {
        "id": "lZCqnpQcx4Gn"
      },
      "source": [
        "# Forecasting and Trading CME Soybean Futures with ML Ensembles\n",
        "\n",
        "*Last updated: 02 Feb 2024*"
      ]
    },
    {
      "cell_type": "markdown",
      "metadata": {
        "id": "yQfiWrYhPBtz"
      },
      "source": [
        "**Introduction**\n",
        "\n",
        "In financial economics, the efficient market hypothesis (EMH) posits that all available information regarding a given security is reflected in its price. There exists a weak, semi-strong and strong form EMH, but all agree that it is essentially not possible to consistently outperform the market.\n",
        "\n",
        "While the EMH has been influential in financial theory, it has also faced criticism. Some argue that there are situations where markets are not perfectly efficient, and anomalies do exist. For example, behavioural finance explores how psychological factors can lead to market inefficiencies and deviations from the EMH. Empirically, numerous hedge funds and trading houses, both systematic and discretionary, have also proven capable of outperforming the market over the long run.\n",
        "\n",
        "**Objective**\n",
        "\n",
        "In this project we will endeavour to exploit any such inefficiencies in the price and build an ensemble of supervised learning machine models to forecast price returns of CME soybean futures. In contrast to absolute price levels, returns are well-known to be stationary and therefore lend themselves better to modeling.\n",
        "\n",
        "Our model aims to forecast whether the closing price tomorrow will be higher than today. Naturally, we could extend this methodology and build another model to forecast whether tomorrow's price will be lower than today. However, for brevity, this project will focus on the former. The code, however, is easily extendable to the latter scenario.\n",
        "\n",
        "Once our model has been built and tuned, we then develop a simple trading strategy. If we predict tomorrow's price to close higher, we enter a long position for a holding period of just one day. Finally, we evaluate the performance of this strategy versus an outright buy-and-hold strategy.\n",
        "\n",
        "Note that our model can equally be applied in forecasting returns for other commodities futures contracts, stocks, currency pairs, etc."
      ]
    },
    {
      "cell_type": "markdown",
      "metadata": {
        "id": "tJnVgjdKwpcD"
      },
      "source": [
        "## Libraries"
      ]
    },
    {
      "cell_type": "code",
      "execution_count": 1,
      "metadata": {
        "id": "VzkZ5Wqbzdxn"
      },
      "outputs": [],
      "source": [
        "%%capture\n",
        "\n",
        "# install missing libraries\n",
        "!pip install watermark # record dependencies"
      ]
    },
    {
      "cell_type": "code",
      "execution_count": 2,
      "metadata": {
        "id": "fVdFmC6FxQrP"
      },
      "outputs": [],
      "source": [
        "%%capture\n",
        "\n",
        "# standard libraries\n",
        "import numpy as np\n",
        "import pandas as pd\n",
        "import scipy.stats\n",
        "\n",
        "# machine learning libraries\n",
        "import lightgbm as lgb\n",
        "from sklearn.compose import make_column_selector, make_column_transformer\n",
        "from sklearn.dummy import DummyClassifier\n",
        "from sklearn.ensemble import VotingClassifier\n",
        "from sklearn.impute import SimpleImputer\n",
        "from sklearn.linear_model import LogisticRegression\n",
        "from sklearn.metrics import precision_recall_curve, precision_score\n",
        "from sklearn.model_selection import cross_val_score, RandomizedSearchCV, TimeSeriesSplit\n",
        "from sklearn.neighbors import KNeighborsClassifier\n",
        "from sklearn.pipeline import make_pipeline\n",
        "from sklearn.preprocessing import OneHotEncoder, StandardScaler\n",
        "import xgboost as xgb\n",
        "\n",
        "# visualisation libraries\n",
        "import matplotlib.pyplot as plt\n",
        "from sklearn.metrics import ConfusionMatrixDisplay\n",
        "\n",
        "# api libraries\n",
        "import yfinance as yf\n",
        "\n",
        "# utility\n",
        "import warnings"
      ]
    },
    {
      "cell_type": "code",
      "execution_count": 3,
      "metadata": {
        "id": "VTMScdR5lks1"
      },
      "outputs": [],
      "source": [
        "# pandas display\n",
        "pd.set_option('display.max_columns', None)\n",
        "pd.set_option('display.max_rows', 250)\n",
        "pd.set_option('display.width', None)\n",
        "pd.set_option('display.float_format', lambda x: '{:.2f}'.format(x))\n",
        "\n",
        "# other display\n",
        "warnings.filterwarnings(\"ignore\", category=Warning)"
      ]
    },
    {
      "cell_type": "markdown",
      "metadata": {
        "id": "7tUkS33QxWbW"
      },
      "source": [
        "## Load data\n",
        "\n",
        "We use the Yahoo! Finance API to download daily OHLC and volume data for CME soybean futures starting from Sep 2000 until present."
      ]
    },
    {
      "cell_type": "code",
      "execution_count": 4,
      "metadata": {
        "colab": {
          "base_uri": "https://localhost:8080/"
        },
        "id": "i6_rqI6oTaOg",
        "outputId": "b475f249-6371-47c1-e32f-d0c9116361ff"
      },
      "outputs": [
        {
          "output_type": "stream",
          "name": "stderr",
          "text": [
            "\r[*********************100%%**********************]  1 of 1 completed\n"
          ]
        }
      ],
      "source": [
        "# define commodity futures contract\n",
        "ticker = 'ZS=F' # cme soybeans\n",
        "ticker_name = 'soybean'\n",
        "\n",
        "# define date range for download\n",
        "start_date = '2000-09-15'\n",
        "end_date = '2024-02-02'\n",
        "\n",
        "# download ohlc price and volume data\n",
        "main_df = yf.download([ticker], start=start_date, end=end_date)"
      ]
    },
    {
      "cell_type": "markdown",
      "metadata": {
        "id": "u_TwGco3x3Tu"
      },
      "source": [
        "## Preprocess data\n",
        "\n",
        "We remove uninformative columns and check for missing values and outliers, as well as inspect key summary statistics such as mean, min and max values to ensure that our data is orderly."
      ]
    },
    {
      "cell_type": "code",
      "execution_count": 5,
      "metadata": {
        "id": "_702R92bKqla"
      },
      "outputs": [],
      "source": [
        "# drop uninformative columns\n",
        "main_df.drop('Close', axis=1, inplace=True)\n",
        "\n",
        "# rename columns for convenience\n",
        "main_df.rename(columns={'Adj Close': 'Close'}, inplace=True)"
      ]
    },
    {
      "cell_type": "code",
      "execution_count": 6,
      "metadata": {
        "colab": {
          "base_uri": "https://localhost:8080/"
        },
        "id": "txWDHm8EzHXV",
        "outputId": "fa79153b-df3a-49a8-f57a-9ce71719550c"
      },
      "outputs": [
        {
          "output_type": "execute_result",
          "data": {
            "text/plain": [
              "Open      0\n",
              "High      0\n",
              "Low       0\n",
              "Close     0\n",
              "Volume    0\n",
              "dtype: int64"
            ]
          },
          "metadata": {},
          "execution_count": 6
        }
      ],
      "source": [
        "# check missing values\n",
        "main_df.isna().sum()"
      ]
    },
    {
      "cell_type": "code",
      "execution_count": 7,
      "metadata": {
        "colab": {
          "base_uri": "https://localhost:8080/",
          "height": 300
        },
        "id": "T7opRaAXzJ0d",
        "outputId": "c20b07c3-a2bb-4092-8c29-5ae1f7511d01"
      },
      "outputs": [
        {
          "output_type": "execute_result",
          "data": {
            "text/plain": [
              "         Open    High     Low   Close    Volume\n",
              "count 5881.00 5881.00 5881.00 5881.00   5881.00\n",
              "mean  1002.41 1012.02  993.93 1002.77  49954.11\n",
              "std    337.55  342.63  332.67  337.54  55157.36\n",
              "min    418.00  418.50  418.00  418.50      0.00\n",
              "25%    750.50  757.50  744.50  751.00    755.00\n",
              "50%    971.25  981.00  964.50  971.50  23499.00\n",
              "75%   1309.00 1321.75 1295.50 1308.25  95572.00\n",
              "max   1778.50 1794.75 1760.50 1771.00 352462.00"
            ],
            "text/html": [
              "\n",
              "  <div id=\"df-0d689bbe-e416-4244-b26d-f9b2312f16e2\" class=\"colab-df-container\">\n",
              "    <div>\n",
              "<style scoped>\n",
              "    .dataframe tbody tr th:only-of-type {\n",
              "        vertical-align: middle;\n",
              "    }\n",
              "\n",
              "    .dataframe tbody tr th {\n",
              "        vertical-align: top;\n",
              "    }\n",
              "\n",
              "    .dataframe thead th {\n",
              "        text-align: right;\n",
              "    }\n",
              "</style>\n",
              "<table border=\"1\" class=\"dataframe\">\n",
              "  <thead>\n",
              "    <tr style=\"text-align: right;\">\n",
              "      <th></th>\n",
              "      <th>Open</th>\n",
              "      <th>High</th>\n",
              "      <th>Low</th>\n",
              "      <th>Close</th>\n",
              "      <th>Volume</th>\n",
              "    </tr>\n",
              "  </thead>\n",
              "  <tbody>\n",
              "    <tr>\n",
              "      <th>count</th>\n",
              "      <td>5881.00</td>\n",
              "      <td>5881.00</td>\n",
              "      <td>5881.00</td>\n",
              "      <td>5881.00</td>\n",
              "      <td>5881.00</td>\n",
              "    </tr>\n",
              "    <tr>\n",
              "      <th>mean</th>\n",
              "      <td>1002.41</td>\n",
              "      <td>1012.02</td>\n",
              "      <td>993.93</td>\n",
              "      <td>1002.77</td>\n",
              "      <td>49954.11</td>\n",
              "    </tr>\n",
              "    <tr>\n",
              "      <th>std</th>\n",
              "      <td>337.55</td>\n",
              "      <td>342.63</td>\n",
              "      <td>332.67</td>\n",
              "      <td>337.54</td>\n",
              "      <td>55157.36</td>\n",
              "    </tr>\n",
              "    <tr>\n",
              "      <th>min</th>\n",
              "      <td>418.00</td>\n",
              "      <td>418.50</td>\n",
              "      <td>418.00</td>\n",
              "      <td>418.50</td>\n",
              "      <td>0.00</td>\n",
              "    </tr>\n",
              "    <tr>\n",
              "      <th>25%</th>\n",
              "      <td>750.50</td>\n",
              "      <td>757.50</td>\n",
              "      <td>744.50</td>\n",
              "      <td>751.00</td>\n",
              "      <td>755.00</td>\n",
              "    </tr>\n",
              "    <tr>\n",
              "      <th>50%</th>\n",
              "      <td>971.25</td>\n",
              "      <td>981.00</td>\n",
              "      <td>964.50</td>\n",
              "      <td>971.50</td>\n",
              "      <td>23499.00</td>\n",
              "    </tr>\n",
              "    <tr>\n",
              "      <th>75%</th>\n",
              "      <td>1309.00</td>\n",
              "      <td>1321.75</td>\n",
              "      <td>1295.50</td>\n",
              "      <td>1308.25</td>\n",
              "      <td>95572.00</td>\n",
              "    </tr>\n",
              "    <tr>\n",
              "      <th>max</th>\n",
              "      <td>1778.50</td>\n",
              "      <td>1794.75</td>\n",
              "      <td>1760.50</td>\n",
              "      <td>1771.00</td>\n",
              "      <td>352462.00</td>\n",
              "    </tr>\n",
              "  </tbody>\n",
              "</table>\n",
              "</div>\n",
              "    <div class=\"colab-df-buttons\">\n",
              "\n",
              "  <div class=\"colab-df-container\">\n",
              "    <button class=\"colab-df-convert\" onclick=\"convertToInteractive('df-0d689bbe-e416-4244-b26d-f9b2312f16e2')\"\n",
              "            title=\"Convert this dataframe to an interactive table.\"\n",
              "            style=\"display:none;\">\n",
              "\n",
              "  <svg xmlns=\"http://www.w3.org/2000/svg\" height=\"24px\" viewBox=\"0 -960 960 960\">\n",
              "    <path d=\"M120-120v-720h720v720H120Zm60-500h600v-160H180v160Zm220 220h160v-160H400v160Zm0 220h160v-160H400v160ZM180-400h160v-160H180v160Zm440 0h160v-160H620v160ZM180-180h160v-160H180v160Zm440 0h160v-160H620v160Z\"/>\n",
              "  </svg>\n",
              "    </button>\n",
              "\n",
              "  <style>\n",
              "    .colab-df-container {\n",
              "      display:flex;\n",
              "      gap: 12px;\n",
              "    }\n",
              "\n",
              "    .colab-df-convert {\n",
              "      background-color: #E8F0FE;\n",
              "      border: none;\n",
              "      border-radius: 50%;\n",
              "      cursor: pointer;\n",
              "      display: none;\n",
              "      fill: #1967D2;\n",
              "      height: 32px;\n",
              "      padding: 0 0 0 0;\n",
              "      width: 32px;\n",
              "    }\n",
              "\n",
              "    .colab-df-convert:hover {\n",
              "      background-color: #E2EBFA;\n",
              "      box-shadow: 0px 1px 2px rgba(60, 64, 67, 0.3), 0px 1px 3px 1px rgba(60, 64, 67, 0.15);\n",
              "      fill: #174EA6;\n",
              "    }\n",
              "\n",
              "    .colab-df-buttons div {\n",
              "      margin-bottom: 4px;\n",
              "    }\n",
              "\n",
              "    [theme=dark] .colab-df-convert {\n",
              "      background-color: #3B4455;\n",
              "      fill: #D2E3FC;\n",
              "    }\n",
              "\n",
              "    [theme=dark] .colab-df-convert:hover {\n",
              "      background-color: #434B5C;\n",
              "      box-shadow: 0px 1px 3px 1px rgba(0, 0, 0, 0.15);\n",
              "      filter: drop-shadow(0px 1px 2px rgba(0, 0, 0, 0.3));\n",
              "      fill: #FFFFFF;\n",
              "    }\n",
              "  </style>\n",
              "\n",
              "    <script>\n",
              "      const buttonEl =\n",
              "        document.querySelector('#df-0d689bbe-e416-4244-b26d-f9b2312f16e2 button.colab-df-convert');\n",
              "      buttonEl.style.display =\n",
              "        google.colab.kernel.accessAllowed ? 'block' : 'none';\n",
              "\n",
              "      async function convertToInteractive(key) {\n",
              "        const element = document.querySelector('#df-0d689bbe-e416-4244-b26d-f9b2312f16e2');\n",
              "        const dataTable =\n",
              "          await google.colab.kernel.invokeFunction('convertToInteractive',\n",
              "                                                    [key], {});\n",
              "        if (!dataTable) return;\n",
              "\n",
              "        const docLinkHtml = 'Like what you see? Visit the ' +\n",
              "          '<a target=\"_blank\" href=https://colab.research.google.com/notebooks/data_table.ipynb>data table notebook</a>'\n",
              "          + ' to learn more about interactive tables.';\n",
              "        element.innerHTML = '';\n",
              "        dataTable['output_type'] = 'display_data';\n",
              "        await google.colab.output.renderOutput(dataTable, element);\n",
              "        const docLink = document.createElement('div');\n",
              "        docLink.innerHTML = docLinkHtml;\n",
              "        element.appendChild(docLink);\n",
              "      }\n",
              "    </script>\n",
              "  </div>\n",
              "\n",
              "\n",
              "<div id=\"df-790a6ff6-5114-4c72-9e43-dd1619ba7e92\">\n",
              "  <button class=\"colab-df-quickchart\" onclick=\"quickchart('df-790a6ff6-5114-4c72-9e43-dd1619ba7e92')\"\n",
              "            title=\"Suggest charts\"\n",
              "            style=\"display:none;\">\n",
              "\n",
              "<svg xmlns=\"http://www.w3.org/2000/svg\" height=\"24px\"viewBox=\"0 0 24 24\"\n",
              "     width=\"24px\">\n",
              "    <g>\n",
              "        <path d=\"M19 3H5c-1.1 0-2 .9-2 2v14c0 1.1.9 2 2 2h14c1.1 0 2-.9 2-2V5c0-1.1-.9-2-2-2zM9 17H7v-7h2v7zm4 0h-2V7h2v10zm4 0h-2v-4h2v4z\"/>\n",
              "    </g>\n",
              "</svg>\n",
              "  </button>\n",
              "\n",
              "<style>\n",
              "  .colab-df-quickchart {\n",
              "      --bg-color: #E8F0FE;\n",
              "      --fill-color: #1967D2;\n",
              "      --hover-bg-color: #E2EBFA;\n",
              "      --hover-fill-color: #174EA6;\n",
              "      --disabled-fill-color: #AAA;\n",
              "      --disabled-bg-color: #DDD;\n",
              "  }\n",
              "\n",
              "  [theme=dark] .colab-df-quickchart {\n",
              "      --bg-color: #3B4455;\n",
              "      --fill-color: #D2E3FC;\n",
              "      --hover-bg-color: #434B5C;\n",
              "      --hover-fill-color: #FFFFFF;\n",
              "      --disabled-bg-color: #3B4455;\n",
              "      --disabled-fill-color: #666;\n",
              "  }\n",
              "\n",
              "  .colab-df-quickchart {\n",
              "    background-color: var(--bg-color);\n",
              "    border: none;\n",
              "    border-radius: 50%;\n",
              "    cursor: pointer;\n",
              "    display: none;\n",
              "    fill: var(--fill-color);\n",
              "    height: 32px;\n",
              "    padding: 0;\n",
              "    width: 32px;\n",
              "  }\n",
              "\n",
              "  .colab-df-quickchart:hover {\n",
              "    background-color: var(--hover-bg-color);\n",
              "    box-shadow: 0 1px 2px rgba(60, 64, 67, 0.3), 0 1px 3px 1px rgba(60, 64, 67, 0.15);\n",
              "    fill: var(--button-hover-fill-color);\n",
              "  }\n",
              "\n",
              "  .colab-df-quickchart-complete:disabled,\n",
              "  .colab-df-quickchart-complete:disabled:hover {\n",
              "    background-color: var(--disabled-bg-color);\n",
              "    fill: var(--disabled-fill-color);\n",
              "    box-shadow: none;\n",
              "  }\n",
              "\n",
              "  .colab-df-spinner {\n",
              "    border: 2px solid var(--fill-color);\n",
              "    border-color: transparent;\n",
              "    border-bottom-color: var(--fill-color);\n",
              "    animation:\n",
              "      spin 1s steps(1) infinite;\n",
              "  }\n",
              "\n",
              "  @keyframes spin {\n",
              "    0% {\n",
              "      border-color: transparent;\n",
              "      border-bottom-color: var(--fill-color);\n",
              "      border-left-color: var(--fill-color);\n",
              "    }\n",
              "    20% {\n",
              "      border-color: transparent;\n",
              "      border-left-color: var(--fill-color);\n",
              "      border-top-color: var(--fill-color);\n",
              "    }\n",
              "    30% {\n",
              "      border-color: transparent;\n",
              "      border-left-color: var(--fill-color);\n",
              "      border-top-color: var(--fill-color);\n",
              "      border-right-color: var(--fill-color);\n",
              "    }\n",
              "    40% {\n",
              "      border-color: transparent;\n",
              "      border-right-color: var(--fill-color);\n",
              "      border-top-color: var(--fill-color);\n",
              "    }\n",
              "    60% {\n",
              "      border-color: transparent;\n",
              "      border-right-color: var(--fill-color);\n",
              "    }\n",
              "    80% {\n",
              "      border-color: transparent;\n",
              "      border-right-color: var(--fill-color);\n",
              "      border-bottom-color: var(--fill-color);\n",
              "    }\n",
              "    90% {\n",
              "      border-color: transparent;\n",
              "      border-bottom-color: var(--fill-color);\n",
              "    }\n",
              "  }\n",
              "</style>\n",
              "\n",
              "  <script>\n",
              "    async function quickchart(key) {\n",
              "      const quickchartButtonEl =\n",
              "        document.querySelector('#' + key + ' button');\n",
              "      quickchartButtonEl.disabled = true;  // To prevent multiple clicks.\n",
              "      quickchartButtonEl.classList.add('colab-df-spinner');\n",
              "      try {\n",
              "        const charts = await google.colab.kernel.invokeFunction(\n",
              "            'suggestCharts', [key], {});\n",
              "      } catch (error) {\n",
              "        console.error('Error during call to suggestCharts:', error);\n",
              "      }\n",
              "      quickchartButtonEl.classList.remove('colab-df-spinner');\n",
              "      quickchartButtonEl.classList.add('colab-df-quickchart-complete');\n",
              "    }\n",
              "    (() => {\n",
              "      let quickchartButtonEl =\n",
              "        document.querySelector('#df-790a6ff6-5114-4c72-9e43-dd1619ba7e92 button');\n",
              "      quickchartButtonEl.style.display =\n",
              "        google.colab.kernel.accessAllowed ? 'block' : 'none';\n",
              "    })();\n",
              "  </script>\n",
              "</div>\n",
              "\n",
              "    </div>\n",
              "  </div>\n"
            ]
          },
          "metadata": {},
          "execution_count": 7
        }
      ],
      "source": [
        "# check outliers\n",
        "main_df.describe()"
      ]
    },
    {
      "cell_type": "code",
      "execution_count": 8,
      "metadata": {
        "colab": {
          "base_uri": "https://localhost:8080/"
        },
        "id": "Qw9g0FKGzLFR",
        "outputId": "3b259f67-3834-42c1-d01d-86eee4222ce8"
      },
      "outputs": [
        {
          "output_type": "execute_result",
          "data": {
            "text/plain": [
              "0"
            ]
          },
          "metadata": {},
          "execution_count": 8
        }
      ],
      "source": [
        "# check duplicate dates\n",
        "main_df.duplicated().sum()"
      ]
    },
    {
      "cell_type": "markdown",
      "metadata": {
        "id": "_PLry-TM0Xo9"
      },
      "source": [
        "### Define train validation test date ranges\n",
        "\n",
        "We have approximately 24 years worth of data. Commonly 20-25% is set aside for validation and testing. As such, we use 18 year's worth of data to train our model, 3 years to validate and tune our model, and the remaining 3 years to perform one final model evaluation against the holdout test set."
      ]
    },
    {
      "cell_type": "code",
      "execution_count": 9,
      "metadata": {
        "id": "nR_Nyqpb0mwh"
      },
      "outputs": [],
      "source": [
        "# specify training and validation date ranges\n",
        "end_train_date = '2017-12-31'\n",
        "end_valid_date = '2020-12-31'"
      ]
    },
    {
      "cell_type": "markdown",
      "metadata": {
        "id": "Z6DNhLuo2I5_"
      },
      "source": [
        "### Define target variable\n",
        "\n",
        "In order to define our target variable, we first compute daily percentage changes in closing prices. For all values above zero percent, we label these as our positive class 1. All other values are our negative class 0. This is in line with convention within the machine learning community. The labels 1 and 0 have no particular meaning and we could have alternatively labeled these as 1 and -1. Note that if we were trying to forecast negative returns, all we would need to do is simply reverse the class labels where all down days are labeled as the positive class 1.\n",
        "\n",
        "Next, to convert our time series problem into a supervised learning problem, we define the CME soybeans returns at timestep $t_{+1}$ as our target variable $y$. This requires backshifting our categorical class returns column which also ensures we avoid any lookahead."
      ]
    },
    {
      "cell_type": "code",
      "execution_count": 10,
      "metadata": {
        "id": "GoZEm6KW2Mtx"
      },
      "outputs": [],
      "source": [
        "# define spread categorical classes\n",
        "main_df['return_1t'] = main_df['Close'].pct_change() * 100\n",
        "main_df['return_class'] = main_df['return_1t'].apply(lambda x: 1 if x > 0 else 0)\n",
        "\n",
        "# create target variable y\n",
        "main_df['y'] = main_df['return_class'].shift(-1)\n",
        "\n",
        "# drop missing rows\n",
        "main_df.dropna(inplace=True)"
      ]
    },
    {
      "cell_type": "markdown",
      "metadata": {
        "id": "Um1PJ_G10uY6"
      },
      "source": [
        "### Check class imbalance\n",
        "\n",
        "Given the stationary nature of price returns, we would expect these to have a mean centred around zero and constant variance over time. A visual inspection of the below plot confirms this to be the case.\n",
        "\n",
        "Additionally, this also implies that our positive and negative classes will be balanced. Different literature will give different definitions of what a balanced class distribution should look like. Our data is distributed roughly 51.5% positive vs. 48.5% negative. Even by the strictest definitions this is considered balanced as it provides our machine learning models with a representative number of observations in each class so that they are able to learn how to discriminate effectively.\n",
        "\n",
        "Note that we perform the class balance check strictly over the training and validation portion of our data only in order to avoid lookahead. The test set needs to remain as strictly unseen data until final model evaluation."
      ]
    },
    {
      "cell_type": "code",
      "execution_count": 11,
      "metadata": {
        "colab": {
          "base_uri": "https://localhost:8080/",
          "height": 444
        },
        "id": "QbHs53CPYb-U",
        "outputId": "a81b6125-5fbc-45ce-a874-cd59c51ca88c"
      },
      "outputs": [
        {
          "output_type": "display_data",
          "data": {
            "text/plain": [
              "<Figure size 640x480 with 1 Axes>"
            ],
            "image/png": "[encoded data removed]"
          },
          "metadata": {}
        }
      ],
      "source": [
        "# display stationarity of returns\n",
        "main_df['return_1t'][:end_valid_date].plot()\n",
        "plt.title('CME soybean futures daily returns')\n",
        "plt.ylabel('Returns (%)')\n",
        "plt.show()\n",
        "\n",
        "# clean up column\n",
        "main_df.drop('return_1t', axis=1, inplace=True)"
      ]
    },
    {
      "cell_type": "code",
      "execution_count": 12,
      "metadata": {
        "colab": {
          "base_uri": "https://localhost:8080/"
        },
        "id": "bs-vvtETsvnW",
        "outputId": "a2bdf648-fcf7-4468-8975-fb74a9e3f120"
      },
      "outputs": [
        {
          "output_type": "stream",
          "name": "stdout",
          "text": [
            "\n",
            "    Positive class: 0.5150\n",
            "    Negative class: 0.4850\n",
            "\n"
          ]
        }
      ],
      "source": [
        "# check class imbalance\n",
        "print(f\"\"\"\n",
        "    Positive class: {main_df['y'][:end_valid_date].value_counts(normalize=True)[1]:.4f}\n",
        "    Negative class: {main_df['y'][:end_valid_date].value_counts(normalize=True)[0]:.4f}\n",
        "\"\"\")"
      ]
    },
    {
      "cell_type": "markdown",
      "metadata": {
        "id": "cB6XIfmU3VgO"
      },
      "source": [
        "## Feature engineering\n",
        "\n",
        "In order to extract more information from the data we have at hand, we perform various feature engineering steps.\n",
        "\n",
        "First, we compute returns between the current closing price and the closing price of the preceding observation. Then between the current closing price and that of two observations ago. We step back in this fashion 10 observations, i.e. two calendar weeks. We perform this same computation for the open, high, low and volume features stepping back up to 5 observations. This allows us to capture the evolution of various absolute values over time expressed in percentage terms.\n",
        "\n",
        "Second, we consider rolling statistics of one day returns. We calculate the mean, standard deviation, minimum and maximum for 5, 10, 20, 30 and 40-day window lengths. This allows us to retain past information about one day returns and carry these metrics forward into the current observation.\n",
        "\n",
        "Third, we take one day returns, as well as whether those returns were labeled as the positive or negative class, and then take lagged values of these two features stepping back up to 10 observations. In other words, we transform past values of the target variable into additional explanatory variables.\n",
        "\n",
        "Lastly, we calculate a number of custom features, all of which aim to capture the relative performance of one day returns over various lookback periods. The logic is that stationary returns are mean reverting and thus if, for example, returns have been negative relative to their recent range for a number of periods, they are more likely to be positive in consequent periods.\n",
        "- The min-max range of one day returns on a 5, 10, 20, 30 and 40-day rolling basis\n",
        "- Moving average crossovers (similar to MACD) of one day returns for 5, 10 and 20-day windows\n",
        "- Oscillator (similar to RSI) of one day returns versus the maximum one day returns obtained from a 5, 10, 20, 30 and 40-day lookback window\n",
        "- Z-scores of one day returns over 5, 10, 20, 30 and 40-day periods"
      ]
    },
    {
      "cell_type": "markdown",
      "metadata": {
        "id": "O08PctE_FtJk"
      },
      "source": [
        "### Return features"
      ]
    },
    {
      "cell_type": "code",
      "execution_count": 13,
      "metadata": {
        "id": "Q4bo_a6RFu8H"
      },
      "outputs": [],
      "source": [
        "def return_features(df, columns, periods):\n",
        "\n",
        "    # compute percentage changes between periods\n",
        "    for period in range(1, periods+1):\n",
        "        new_cols = [f'{col}_return_{period}t' for col in columns]\n",
        "        df[new_cols] = df[columns].pct_change(periods=period)\n",
        "\n",
        "    return df"
      ]
    },
    {
      "cell_type": "markdown",
      "metadata": {
        "id": "IGuDOntQFyn3"
      },
      "source": [
        "### Rolling features"
      ]
    },
    {
      "cell_type": "code",
      "execution_count": 14,
      "metadata": {
        "id": "t6Aq0j5TF01k"
      },
      "outputs": [],
      "source": [
        "def rolling_features(df, columns, windows):\n",
        "\n",
        "    # define column names\n",
        "    mean_cols = [f'{col}_mean' for col in columns]\n",
        "    std_cols = [f'{col}_std' for col in columns]\n",
        "    min_cols = [f'{col}_min' for col in columns]\n",
        "    max_cols = [f'{col}_max' for col in columns]\n",
        "\n",
        "    # create rolling mean, std, min and max features\n",
        "    for window in windows:\n",
        "\n",
        "        mean_colnames = [f'{col}_{window}t' for col in mean_cols]\n",
        "        df[mean_colnames] = df[columns].rolling(window=window).mean()\n",
        "\n",
        "        std_colnames = [f'{col}_{window}t' for col in std_cols]\n",
        "        df[std_colnames] = df[columns].rolling(window=window).std()\n",
        "\n",
        "        min_colnames = [f'{col}_{window}t' for col in min_cols]\n",
        "        df[min_colnames] = df[columns].rolling(window=window).min()\n",
        "\n",
        "        max_colnames = [f'{col}_{window}t' for col in max_cols]\n",
        "        df[max_colnames] = df[columns].rolling(window=window).max()\n",
        "\n",
        "    return df"
      ]
    },
    {
      "cell_type": "markdown",
      "metadata": {
        "id": "F7WifPIMlqp1"
      },
      "source": [
        "### Lagged features"
      ]
    },
    {
      "cell_type": "code",
      "execution_count": 15,
      "metadata": {
        "id": "gDebiieglttP"
      },
      "outputs": [],
      "source": [
        "def lagged_features(df, columns, lags):\n",
        "\n",
        "    # create features containing lagged values\n",
        "    for lag in range(1, lags+1):\n",
        "        new_cols = [f'{col}_t-{lag}' for col in columns]\n",
        "        df[new_cols] = df[columns].shift(periods=lag)\n",
        "\n",
        "    return df"
      ]
    },
    {
      "cell_type": "markdown",
      "metadata": {
        "id": "K3ItbrXSFn2W"
      },
      "source": [
        "### Custom features"
      ]
    },
    {
      "cell_type": "code",
      "execution_count": 16,
      "metadata": {
        "id": "JfuEiRZfVfOj"
      },
      "outputs": [],
      "source": [
        "def custom_features(df):\n",
        "\n",
        "    # add max-min range features\n",
        "    df['Close_return_5t_min_max_range'] = df['Close_return_1t_max_5t'] - df['Close_return_1t_min_5t']\n",
        "    df['Close_return_10t_min_max_range'] = df['Close_return_1t_max_10t'] - df['Close_return_1t_min_10t']\n",
        "    df['Close_return_20t_min_max_range'] = df['Close_return_1t_max_20t'] - df['Close_return_1t_min_20t']\n",
        "    df['Close_return_30t_min_max_range'] = df['Close_return_1t_max_30t'] - df['Close_return_1t_min_30t']\n",
        "    df['Close_return_40t_min_max_range'] = df['Close_return_1t_max_40t'] - df['Close_return_1t_min_40t']\n",
        "\n",
        "    # add moving average crossover features\n",
        "    df['Close_return_long_med_macd'] = df['Close_return_1t_mean_20t'] - df['Close_return_1t_mean_10t']\n",
        "    df['Close_return_long_short_macd'] = df['Close_return_1t_mean_20t'] - df['Close_return_1t_mean_5t']\n",
        "    df['Close_return_med_short_macd'] = df['Close_return_1t_mean_10t'] - df['Close_return_1t_mean_5t']\n",
        "\n",
        "    # add oscillator features\n",
        "    df['Close_return_5t_rsi'] = df['Close_return_1t'] / df['Close_return_1t_max_5t']\n",
        "    df['Close_return_10t_rsi'] = df['Close_return_1t'] / df['Close_return_1t_max_10t']\n",
        "    df['Close_return_20t_rsi'] = df['Close_return_1t'] / df['Close_return_1t_max_20t']\n",
        "    df['Close_return_30t_rsi'] = df['Close_return_1t'] / df['Close_return_1t_max_30t']\n",
        "    df['Close_return_40t_rsi'] = df['Close_return_1t'] / df['Close_return_1t_max_40t']\n",
        "\n",
        "    # add z-score features\n",
        "    df['Close_return_5t_zscore'] = (df['Close_return_1t'] - df['Close_return_1t_mean_5t']) / df['Close_return_1t_std_5t']\n",
        "    df['Close_return_10t_zscore'] = (df['Close_return_1t'] - df['Close_return_1t_mean_10t']) / df['Close_return_1t_std_10t']\n",
        "    df['Close_return_20t_zscore'] = (df['Close_return_1t'] - df['Close_return_1t_mean_20t']) / df['Close_return_1t_std_20t']\n",
        "    df['Close_return_30t_zscore'] = (df['Close_return_1t'] - df['Close_return_1t_mean_30t']) / df['Close_return_1t_std_30t']\n",
        "    df['Close_return_40t_zscore'] = (df['Close_return_1t'] - df['Close_return_1t_mean_40t']) / df['Close_return_1t_std_40t']\n",
        "\n",
        "    return df"
      ]
    },
    {
      "cell_type": "markdown",
      "metadata": {
        "id": "VS--B9EK3WOY"
      },
      "source": [
        "## Augment dataset"
      ]
    },
    {
      "cell_type": "code",
      "execution_count": 17,
      "metadata": {
        "id": "X9JZST24pGiZ"
      },
      "outputs": [],
      "source": [
        "# number of periods and list of features for which to calculate returns\n",
        "return_periods_far = 10\n",
        "return_cols_far = ['Close']\n",
        "return_periods_near = 5\n",
        "return_cols_near = ['Open', 'High', 'Low', 'Volume']\n",
        "\n",
        "# window horizons and list of features for which to calculate rolling statistics\n",
        "rolling_windows = [5, 10, 20, 30, 40]\n",
        "rolling_cols = ['Close_return_1t']\n",
        "\n",
        "# number of lags and list of features on which to perform lagged operation\n",
        "lagged_periods = 10\n",
        "lagged_cols = ['Close_return_1t', 'return_class']"
      ]
    },
    {
      "cell_type": "code",
      "execution_count": 18,
      "metadata": {
        "id": "s27UCzpHJvfv"
      },
      "outputs": [],
      "source": [
        "def feature_engineering(df):\n",
        "\n",
        "    # feature engineering steps to perform sequentially\n",
        "    df = return_features(df, return_cols_far, return_periods_far)\n",
        "    df = return_features(df, return_cols_near, return_periods_near)\n",
        "    df = rolling_features(df, rolling_cols, rolling_windows)\n",
        "    df = lagged_features(df, lagged_cols, lagged_periods)\n",
        "    df = custom_features(df)\n",
        "\n",
        "    return df"
      ]
    },
    {
      "cell_type": "code",
      "execution_count": 19,
      "metadata": {
        "colab": {
          "base_uri": "https://localhost:8080/"
        },
        "id": "uSm0ABjBJxTC",
        "outputId": "bd7c4445-ce5d-4a2f-e850-34b4bc30da20"
      },
      "outputs": [
        {
          "output_type": "stream",
          "name": "stdout",
          "text": [
            "DataFrame rows by columns: (5879, 95)\n"
          ]
        }
      ],
      "source": [
        "# run main df through our custom feature engineering pipeline\n",
        "main_df = feature_engineering(main_df)\n",
        "\n",
        "# display dataframe size\n",
        "print(f'DataFrame rows by columns: {main_df.shape}')"
      ]
    },
    {
      "cell_type": "markdown",
      "metadata": {
        "id": "kJphDm9PFRfT"
      },
      "source": [
        "### Drop uninformative features\n",
        "\n",
        "We drop all absolute value features as these by themselves do not tell us much about whether today's returns will be up or down. Rather, what we are interested in are ratios and features which capture the historical evolution of absolute values - which is exactly the type of information we extracted in the preceding feature engineering section."
      ]
    },
    {
      "cell_type": "code",
      "execution_count": 20,
      "metadata": {
        "id": "rLdPjySlhlgH"
      },
      "outputs": [],
      "source": [
        "# drop uninformative absolute value features\n",
        "prices = main_df['Close'] # keep variable for later plotting\n",
        "main_df.drop((return_cols_near + ['Close']), axis=1, inplace=True)"
      ]
    },
    {
      "cell_type": "markdown",
      "metadata": {
        "id": "bjeWC1nkLpDM"
      },
      "source": [
        "### Handle missing values\n",
        "\n",
        "We replace all infinite values which could have resulted from a division by zero with missing values, then forward fill missing values to avoid lookahead, and finally drop observations which contain any remaining missing values (in our case these are only the first $n$-days from computing rolling statistics)."
      ]
    },
    {
      "cell_type": "code",
      "execution_count": 21,
      "metadata": {
        "id": "2jCpLsomLrIr"
      },
      "outputs": [],
      "source": [
        "# handle missing values\n",
        "main_df.replace([np.inf, -np.inf], np.nan, inplace=True)\n",
        "main_df.ffill(inplace=True)\n",
        "main_df.dropna(inplace=True)"
      ]
    },
    {
      "cell_type": "markdown",
      "metadata": {
        "id": "aRu10UMB3WZW"
      },
      "source": [
        "## Train validation test split\n",
        "\n",
        "Now we partition our data set into a training, validation and test set.\n",
        "\n",
        "The training set will be used to tune our hyperparameters via time series cross validation, and then assess the in-sample performance for both the individual models and ensemble model.\n",
        "\n",
        "The validation set will first be used to evaluate the out-of-sample performance of the ensemble model, and then used to adjust the classification threshold in order to obtain higher precision.\n",
        "\n",
        "Lastly, we retrain our ensemble model on the combined train and validation sets, then perform a final evaluation of the ensemble on the test set."
      ]
    },
    {
      "cell_type": "code",
      "execution_count": 22,
      "metadata": {
        "id": "pzpJmeSg3Wt4"
      },
      "outputs": [],
      "source": [
        "# partition main df into train validation test sets\n",
        "train_df = main_df[:end_train_date]\n",
        "valid_df = main_df[end_train_date:end_valid_date]\n",
        "train_valid_df = main_df[:end_valid_date]\n",
        "test_df = main_df[end_valid_date:]\n",
        "\n",
        "# split training data into X and y\n",
        "X_train = train_df.drop('y', axis=1)\n",
        "y_train = train_df['y']\n",
        "\n",
        "# split validation data into X and y\n",
        "X_valid = valid_df.drop('y', axis=1)\n",
        "y_valid = valid_df['y']\n",
        "\n",
        "# split training+validation data into X and y\n",
        "X_train_valid = train_valid_df.drop('y', axis=1)\n",
        "y_train_valid = train_valid_df['y']\n",
        "\n",
        "# split test data into X and y\n",
        "X_test = test_df.drop('y', axis=1)\n",
        "y_test = test_df['y']"
      ]
    },
    {
      "cell_type": "markdown",
      "metadata": {
        "id": "VPvBln3uvCcc"
      },
      "source": [
        "## Set up pipeline\n",
        "\n",
        "This part adds a simple, yet robust, machine learning pipeline preprocessing step that performs median imputation of missing values and standard scaling for numerical features, as well as most-frequent imputation of missing values and one-hot encoding for categorical features.\n",
        "\n",
        "Although we do not have any categorical features in our current dataset, adding this piece of code would allow us to easily incorporate such features. An example of using categorical input features could be as simple as taking lagged values of the target variable in case of a multiclass classification problem.\n",
        "\n",
        "Each of our individual models are instantiated with this preprocessing pipeline step embedded."
      ]
    },
    {
      "cell_type": "code",
      "execution_count": 23,
      "metadata": {
        "id": "THH0k19cyy4F"
      },
      "outputs": [],
      "source": [
        "# preprocessing for numerical variables\n",
        "numerical_transformer = make_pipeline(\n",
        "    SimpleImputer(strategy='median', add_indicator=True),\n",
        "    StandardScaler(),\n",
        ")\n",
        "\n",
        "# preprocessing for categorical variables\n",
        "categorical_transformer = make_pipeline(\n",
        "    SimpleImputer(strategy='most_frequent', add_indicator=True),\n",
        "    OneHotEncoder(drop='first', handle_unknown='ignore'),\n",
        ")\n",
        "\n",
        "# combine above two preprocessing steps into one pipeline step\n",
        "preprocessor = make_column_transformer(\n",
        "    (numerical_transformer, make_column_selector(dtype_exclude='category')),\n",
        "    (categorical_transformer, make_column_selector(dtype_include='category')),\n",
        ")"
      ]
    },
    {
      "cell_type": "markdown",
      "metadata": {
        "id": "NFf90DGj2dcy"
      },
      "source": [
        "## Instantiate models\n",
        "\n",
        "Generally speaking, when creating an ensemble, more models is better. However, more specifically, we are interested in ensembling models which make slightly different predictions and therefore different errors. If all models make the same errors, ensembling them will not result in better prediction as the ensemble will keep making the same mistakes with no opportunity to average these out.\n",
        "\n",
        "Diversity can be achieved by combining different families of machine learning algorithms. For the sake of brevity, we limit our ensemble to four different individual models:\n",
        "- Logistic regression, a parametric, linear model\n",
        "- K-nearest neighbours, a non-parametric, non-linear model\n",
        "- XGBoost, a gradient boosted tree-based model which uses a depth-first growth approach (i.e. deeper trees with fewer branches)\n",
        "- LightGBM, a gradient boosted tree-based model which uses a level-wise growth approach (i.e. more shallow trees with more branches)\n",
        "\n",
        "Note that the last two models are both tree-based and share many similarities, but can nevertheless be considered distinct as they use a different splitting algorithm under the hood."
      ]
    },
    {
      "cell_type": "markdown",
      "metadata": {
        "id": "XveKPYqd2isL"
      },
      "source": [
        "### Logistic regression"
      ]
    },
    {
      "cell_type": "code",
      "execution_count": 24,
      "metadata": {
        "id": "xzFeWIA926UQ"
      },
      "outputs": [],
      "source": [
        "# instantiate pipeline with logistic regression\n",
        "logreg_clf = make_pipeline(\n",
        "    preprocessor,\n",
        "    LogisticRegression(\n",
        "        random_state=42,\n",
        "        n_jobs=-1,\n",
        "    ),\n",
        ")\n",
        "\n",
        "# hyperparameter search space for logistic regression model\n",
        "logreg_clf_params = {\n",
        "    'logisticregression__penalty': ['l1', 'l2'],\n",
        "    'logisticregression__C': scipy.stats.reciprocal(0.01, 100),\n",
        "    'logisticregression__class_weight': [None, 'balanced'],\n",
        "    'logisticregression__solver': ['liblinear', 'saga']\n",
        "}"
      ]
    },
    {
      "cell_type": "markdown",
      "metadata": {
        "id": "q23oLgWD2g9k"
      },
      "source": [
        "### KNN classifier"
      ]
    },
    {
      "cell_type": "code",
      "execution_count": 25,
      "metadata": {
        "id": "--lkBQS33AfQ"
      },
      "outputs": [],
      "source": [
        "# instantiate pipeline with knn classifier\n",
        "knn_clf = make_pipeline(\n",
        "    preprocessor,\n",
        "    KNeighborsClassifier(n_jobs=-1),\n",
        ")\n",
        "\n",
        "# hyperparameter search space for knn classifier model\n",
        "knn_clf_params = {\n",
        "    'kneighborsclassifier__n_neighbors': scipy.stats.randint(5, 51),\n",
        "    'kneighborsclassifier__weights': ['uniform', 'distance'],\n",
        "    'kneighborsclassifier__p': [1.0, 1.5, 2.0],\n",
        "}"
      ]
    },
    {
      "cell_type": "markdown",
      "metadata": {
        "id": "tz6Mv9jN2iEf"
      },
      "source": [
        "### XGBoost classifier"
      ]
    },
    {
      "cell_type": "code",
      "execution_count": 26,
      "metadata": {
        "id": "-tX0Zvs_3B0-"
      },
      "outputs": [],
      "source": [
        "# instantiate xgboost classifier\n",
        "xgb_clf = make_pipeline(\n",
        "    preprocessor,\n",
        "    xgb.XGBClassifier(\n",
        "        n_estimators=100,\n",
        "        random_state=42,\n",
        "        objective='binary:logistic',\n",
        "        importance_type='gain',\n",
        "        verbosity=0,\n",
        "        n_jobs=-1,\n",
        "    )\n",
        ")\n",
        "\n",
        "# hyperparameter search space for xgboost classifier model\n",
        "xgb_clf_params = {\n",
        "    'xgbclassifier__max_depth': scipy.stats.randint(2, 11),\n",
        "    'xgbclassifier__learning_rate': [0.01, 0.1, 0.2, 0.3, 0.4],\n",
        "    'xgbclassifier__reg_alpha': [0., 0.1, 0.25, 0.5, 1.0, 1.5],\n",
        "    'xgbclassifier__reg_lambda': [0., 0.25, 0.5, 1.0, 1.5, 2.0],\n",
        "}"
      ]
    },
    {
      "cell_type": "markdown",
      "metadata": {
        "id": "W76ehQdg2hz3"
      },
      "source": [
        "### LightGBM classifier"
      ]
    },
    {
      "cell_type": "code",
      "execution_count": 27,
      "metadata": {
        "id": "8C_6jl6C3VN3"
      },
      "outputs": [],
      "source": [
        "# instantiate lightgbm classifier\n",
        "lgb_clf = make_pipeline(\n",
        "    preprocessor,\n",
        "    lgb.LGBMClassifier(\n",
        "        n_estimators=100,\n",
        "        random_state=42,\n",
        "        objective='binary',\n",
        "        importance_type='gain',\n",
        "        verbosity=-1,\n",
        "        n_jobs=-1,\n",
        "    )\n",
        ")\n",
        "\n",
        "# hyperparameter search space for lightgbm classifier model\n",
        "lgb_clf_params = {\n",
        "    'lgbmclassifier__num_leaves': [16, 32, 64],\n",
        "    'lgbmclassifier__learning_rate': [0.01, 0.1, 0.15],\n",
        "    'lgbmclassifier__min_child_samples': scipy.stats.randint(10, 31),\n",
        "    'lgbmclassifier__reg_alpha': [0., 0.1, 0.25, 0.5, 1.0, 1.5],\n",
        "    'lgbmclassifier__reg_lambda': [0., 0.25, 0.5, 1.0, 1.5, 2.0],\n",
        "}"
      ]
    },
    {
      "cell_type": "markdown",
      "metadata": {
        "id": "AjCIbakjLMOt"
      },
      "source": [
        "# Training"
      ]
    },
    {
      "cell_type": "markdown",
      "metadata": {
        "id": "N1eMcD7-mLvS"
      },
      "source": [
        "## Hyperparameter tuning\n",
        "\n",
        "We perform hyperparameter tuning for each of the individual models using a time series cross validation approach. The cross validation is a walk-forward validation where each successive training fold is a superset of the previous folds. This is to avoid introducing lookahead where we train our model on future unseen data. We opt to use 4-fold cross validation, where each test fold contains 252 trading days (i.e. one calendar year). Usually, 5-fold cross validation is performed, however both our validation and test sets contain 3 year's worth of data each and hence we select a value in between which should guarantee both robustness and representativeness.\n",
        "\n",
        "For this project, we decided to use a randomised grid search to find the best hyperparameter combination. Although this is better than an exhaustive grid search, which fails to consider the subspace between the predefined hyperparameters, it is nevertheless not as efficient at finding the optimum hyperparameter combination as a Bayesian optimisation algorithm. Our reason for choosing a randomised approach is because it is less computationally demanding than Bayesian optimisation and thus faster to execute. Considering we are tuning 4 models, across 4 validation folds, using 30 iterations with different hyperparameter combinations, this results in fitting 480 models - hence the preference for a method with faster computation. It must be said, however, that all three of these parts can be parallelised and thus allocating more resources can alleviate the problem.\n",
        "\n",
        "For each individual model, we explicitly define all hyperparameters to be considered based on a priori knowledge. However, we present one hyperparameter in each model as a distribution, which enables the randomised search algorithm to resample hyperparameter combinations with replacement.\n",
        "\n",
        "Finally, we specify the performance metric to be maximised as precision. Precision is simply $TP$ / ($TP$+$FP$), where $TP$ is true positives and $FP$ is false positives. In other words, precision answers the question: \"out of the predicted positive instances, how many were truly positive?\"."
      ]
    },
    {
      "cell_type": "code",
      "execution_count": 28,
      "metadata": {
        "id": "nH8t1Z684Dsp"
      },
      "outputs": [],
      "source": [
        "# time series cross validation\n",
        "tscv = TimeSeriesSplit(n_splits=4, test_size=252) # four test folds of approx one year each"
      ]
    },
    {
      "cell_type": "code",
      "execution_count": 29,
      "metadata": {
        "id": "Vmo3YNIuN5-q"
      },
      "outputs": [],
      "source": [
        "def tune_hyperparams(estimator, param_dist, name, display=True):\n",
        "\n",
        "    # perform a randomised grid search with 30 iterations\n",
        "    rscv = RandomizedSearchCV(\n",
        "        estimator=estimator,\n",
        "        param_distributions=param_dist,\n",
        "        n_iter=30, # this number is shown empirically to work well\n",
        "        scoring='precision',\n",
        "        cv=tscv,\n",
        "        verbose=0,\n",
        "        random_state=42,\n",
        "    )\n",
        "\n",
        "    # fit randomised grid search cv object to training data\n",
        "    rscv.fit(X_train, y_train)\n",
        "\n",
        "    if display:\n",
        "\n",
        "        # display best hyperparameter combo\n",
        "        print(f'Best hyperparameters for {name}')\n",
        "        print('- - -')\n",
        "        for param, value in rscv.best_params_.items():\n",
        "            print(f'{param}: {value}')\n",
        "\n",
        "        # display performance metrics\n",
        "        print(f\"\"\"\n",
        "        Cross-validated precision score\n",
        "        - - -\n",
        "        Mean: \\t\\t{rscv.cv_results_['mean_test_score'][rscv.best_index_]:.3f}\n",
        "        Std dev: \\t{rscv.cv_results_['std_test_score'][rscv.best_index_]:.3f}\n",
        "        \"\"\")\n",
        "\n",
        "    return rscv.best_estimator_"
      ]
    },
    {
      "cell_type": "markdown",
      "metadata": {
        "id": "VVCe6tELGuWX"
      },
      "source": [
        "### Individual model evaluation\n",
        "\n",
        "The below cross-validated precision scores are all above 0.5, which means each individual model is able to correctly predict the positive class in more than half of the instances. The interpretation of whether this score can be considered good or bad is highly domain specific. For example, in medical image diagnosis, if for each time our model diagnosed a patient with disease it was correct in only roughly half those instances, we would consider this a very poor model. However, in financial time series, and given their random walk nature, a model which is consistently able to correctly predict market direction in more than half of the cases might actually be considered for further development into a potential systematic trading strategy.\n",
        "\n",
        "We also note that, unsurprisingly, the gradient boosted decision trees (GBDT) - which are more complex models and ensembles in their own right - had higher precision and lower standard deviation in their predictions compared to the other models. However, in accordance with the no free lunch theorem, the trade-off is that training time for GBDTs generally takes longer, and in our case specifically took about twice as long for the XGBoost model.\n",
        "\n",
        "Lastly, naively predicting the positive class for each instance would have resulted in a precision score of 0.515. By comparison, at this stage, none of our individual models thus seem particularly successful. The next section looks at whether an ensemble model can in fact be more powerful than the sum of its parts."
      ]
    },
    {
      "cell_type": "code",
      "source": [
        "print(f\"\"\"\n",
        "    Always predicting the positive class on the training set\n",
        "    gives us a precision score of: {y_train.value_counts(normalize=True)[1]:.3f}\n",
        "\"\"\")"
      ],
      "metadata": {
        "colab": {
          "base_uri": "https://localhost:8080/"
        },
        "id": "RifbFCs8yD0L",
        "outputId": "3e4f9f7e-4da1-4e0f-d460-7eec008866df"
      },
      "execution_count": 30,
      "outputs": [
        {
          "output_type": "stream",
          "name": "stdout",
          "text": [
            "\n",
            "    Always predicting the positive class on the training set\n",
            "    gives us a precision score of: 0.515\n",
            "\n"
          ]
        }
      ]
    },
    {
      "cell_type": "code",
      "execution_count": 31,
      "metadata": {
        "colab": {
          "base_uri": "https://localhost:8080/"
        },
        "id": "AjpAywLeur_K",
        "outputId": "aa5e20e1-312b-488a-e9ef-5449921787dc"
      },
      "outputs": [
        {
          "output_type": "stream",
          "name": "stdout",
          "text": [
            "Best hyperparameters for Logistic Regression Classifier\n",
            "- - -\n",
            "logisticregression__C: 0.0838639478040256\n",
            "logisticregression__class_weight: balanced\n",
            "logisticregression__penalty: l1\n",
            "logisticregression__solver: saga\n",
            "\n",
            "        Cross-validated precision score\n",
            "        - - -\n",
            "        Mean: \t\t0.509\n",
            "        Std dev: \t0.046\n",
            "        \n",
            "CPU times: user 1min 50s, sys: 10.1 s, total: 2min\n",
            "Wall time: 1min 57s\n"
          ]
        }
      ],
      "source": [
        "%%time\n",
        "logreg_clf_tuned = tune_hyperparams(logreg_clf, logreg_clf_params, 'Logistic Regression Classifier')"
      ]
    },
    {
      "cell_type": "code",
      "execution_count": 32,
      "metadata": {
        "colab": {
          "base_uri": "https://localhost:8080/"
        },
        "id": "AJmlloXfusro",
        "outputId": "23aa1740-0497-4e4e-ab56-4a190b035a5d"
      },
      "outputs": [
        {
          "output_type": "stream",
          "name": "stdout",
          "text": [
            "Best hyperparameters for KNN Classifier\n",
            "- - -\n",
            "kneighborsclassifier__n_neighbors: 7\n",
            "kneighborsclassifier__p: 1.0\n",
            "kneighborsclassifier__weights: uniform\n",
            "\n",
            "        Cross-validated precision score\n",
            "        - - -\n",
            "        Mean: \t\t0.508\n",
            "        Std dev: \t0.028\n",
            "        \n",
            "CPU times: user 2min 11s, sys: 571 ms, total: 2min 11s\n",
            "Wall time: 1min 14s\n"
          ]
        }
      ],
      "source": [
        "%%time\n",
        "knn_clf_tuned = tune_hyperparams(knn_clf, knn_clf_params, 'KNN Classifier')"
      ]
    },
    {
      "cell_type": "code",
      "execution_count": 33,
      "metadata": {
        "colab": {
          "base_uri": "https://localhost:8080/"
        },
        "id": "9KUwA9_autQh",
        "outputId": "96dd3683-4bd4-4f36-ea2b-ae557ebce695"
      },
      "outputs": [
        {
          "output_type": "stream",
          "name": "stdout",
          "text": [
            "Best hyperparameters for XGBoost Classifier\n",
            "- - -\n",
            "xgbclassifier__learning_rate: 0.1\n",
            "xgbclassifier__max_depth: 6\n",
            "xgbclassifier__reg_alpha: 0.1\n",
            "xgbclassifier__reg_lambda: 1.0\n",
            "\n",
            "        Cross-validated precision score\n",
            "        - - -\n",
            "        Mean: \t\t0.512\n",
            "        Std dev: \t0.034\n",
            "        \n",
            "CPU times: user 6min 24s, sys: 2.22 s, total: 6min 26s\n",
            "Wall time: 3min 27s\n"
          ]
        }
      ],
      "source": [
        "%%time\n",
        "xgb_clf_tuned = tune_hyperparams(xgb_clf, xgb_clf_params, 'XGBoost Classifier')"
      ]
    },
    {
      "cell_type": "code",
      "execution_count": 34,
      "metadata": {
        "colab": {
          "base_uri": "https://localhost:8080/"
        },
        "id": "VRBrjlcdqg-h",
        "outputId": "c9637f65-5d7a-4295-db7c-48bea1847caa"
      },
      "outputs": [
        {
          "output_type": "stream",
          "name": "stdout",
          "text": [
            "Best hyperparameters for LightGBM Classifier\n",
            "- - -\n",
            "lgbmclassifier__learning_rate: 0.1\n",
            "lgbmclassifier__min_child_samples: 13\n",
            "lgbmclassifier__num_leaves: 32\n",
            "lgbmclassifier__reg_alpha: 1.5\n",
            "lgbmclassifier__reg_lambda: 1.0\n",
            "\n",
            "        Cross-validated precision score\n",
            "        - - -\n",
            "        Mean: \t\t0.512\n",
            "        Std dev: \t0.036\n",
            "        \n",
            "CPU times: user 3min 27s, sys: 966 ms, total: 3min 28s\n",
            "Wall time: 1min 52s\n"
          ]
        }
      ],
      "source": [
        "%%time\n",
        "lgb_clf_tuned = tune_hyperparams(lgb_clf, lgb_clf_params, 'LightGBM Classifier')"
      ]
    },
    {
      "cell_type": "markdown",
      "metadata": {
        "id": "l_AoP9Wbzoxc"
      },
      "source": [
        "## Ensembling models\n",
        "\n",
        "In order to combine our individual models into one final voting ensemble classifier, we use a soft voting approach. Soft voting involves combining the predicted probabilities of multiple models and selecting the class with the highest average probability as the final prediction. In contrast to hard voting, which only relies on majority class decisions, this method allows us to more fully leverage the inherent uncertainty or confidence each model has in its predictions."
      ]
    },
    {
      "cell_type": "code",
      "execution_count": 35,
      "metadata": {
        "id": "G2X5h9yBy85j"
      },
      "outputs": [],
      "source": [
        "# collect classifier models into a list\n",
        "estimators = [\n",
        "    (\"logreg_clf\", logreg_clf_tuned),\n",
        "    (\"knn_clf\", knn_clf_tuned),\n",
        "    (\"xgb_clf\", xgb_clf_tuned),\n",
        "    (\"lgb_clf\", lgb_clf_tuned),\n",
        "]"
      ]
    },
    {
      "cell_type": "code",
      "execution_count": 36,
      "metadata": {
        "id": "DFHFloNCPsGc"
      },
      "outputs": [],
      "source": [
        "# instantiate voting classifier ensemble model\n",
        "voting_clf  = VotingClassifier(\n",
        "    estimators=estimators,\n",
        "    voting='soft',\n",
        "    n_jobs=-1,\n",
        ")"
      ]
    },
    {
      "cell_type": "markdown",
      "metadata": {
        "id": "uovNKw5uGmaA"
      },
      "source": [
        "### Voting classifier evaluation\n",
        "\n",
        "Once we have obtained the best hyperparameters for each individual model, we can then combine these into one ensemble. We fit the ensemble on the training data and run the same time series cross validation as described earlier.\n",
        "\n",
        "The resulting precision score is 0.516, which is better than any of the individual models and also better than the naive approach. Additionally, the standard deviation is 0.028, which is as low as the lowest standard deviation achieved among any of the individual models. So far, evaluated on in-sample training data, ensembling models has performed as intended and produced a more powerful combined model."
      ]
    },
    {
      "cell_type": "code",
      "execution_count": 37,
      "metadata": {
        "colab": {
          "base_uri": "https://localhost:8080/"
        },
        "id": "6y2Kt7kuPKMX",
        "outputId": "f18d3eae-ac45-4ae4-df5a-21bdad7a399b"
      },
      "outputs": [
        {
          "output_type": "stream",
          "name": "stdout",
          "text": [
            "\n",
            "    Cross-validated precision score\n",
            "    of voting classifier ensemble\n",
            "    - - -\n",
            "    Mean: \t0.516\n",
            "    Std dev: \t0.028\n",
            "\n",
            "CPU times: user 155 ms, sys: 78.6 ms, total: 234 ms\n",
            "Wall time: 21.3 s\n"
          ]
        }
      ],
      "source": [
        "%%time\n",
        "\n",
        "# compute mean cross-validated precision score\n",
        "scores = cross_val_score(\n",
        "    estimator=voting_clf,\n",
        "    X=X_train,\n",
        "    y=y_train,\n",
        "    scoring='precision',\n",
        "    cv=tscv,\n",
        "    n_jobs=-1,\n",
        ")\n",
        "\n",
        "# display mean and std of voting classifier\n",
        "print(f\"\"\"\n",
        "    Cross-validated precision score\n",
        "    of voting classifier ensemble\n",
        "    - - -\n",
        "    Mean: \\t{scores.mean():.3f}\n",
        "    Std dev: \\t{scores.std():.3f}\n",
        "\"\"\")"
      ]
    },
    {
      "cell_type": "markdown",
      "metadata": {
        "id": "x1z7xdd_LVi0"
      },
      "source": [
        "# Validation\n",
        "\n",
        "Here we move into the next stage of model tuning. Specifically, we will adjust the classification threshold such that we further maximise precision whilst making sure that the model is still able to generate an appropriate number of trading signals.\n",
        "\n",
        "Because we have already used the training set to tune our hyperparameters, we should not use it again to tune our classification threshold. This is in order to avoid the risk of overfitting to the training data.\n",
        "\n",
        "We first observe some key performance metrics of our voting ensemble classifier on the evaluation data set. Using the default classification threshold of 0.5, we achieve a precision of 0.534. A buy signal is generated on approximately 58% (436/756) of trading days.\n",
        "\n",
        "Setting a higher classification threshold will generally result in higher precision as our model will need to be more confident before it labels a prediction as the positive class. Consequently, this will also result in fewer trading signals. Both properties have desirable side effects, reflected in a higher percentage of winning trades, and lower commissions by way of not overtrading, respectively.\n",
        "\n",
        "In the next section we inspect the precision-recall curve, which will help us determine the optimum classification threshold over the validation data set."
      ]
    },
    {
      "cell_type": "code",
      "execution_count": 38,
      "metadata": {
        "id": "IGdmczCe_Oye"
      },
      "outputs": [],
      "source": [
        "%%capture\n",
        "\n",
        "# fit voting classifier on training set\n",
        "voting_clf.fit(X_train, y_train)"
      ]
    },
    {
      "cell_type": "code",
      "execution_count": 39,
      "metadata": {
        "id": "egcVfhBfCXdG"
      },
      "outputs": [],
      "source": [
        "def adjust_threshold(X, y, train_valid_test, threshold=0.5):\n",
        "\n",
        "    # use voting classifier to predict\n",
        "    y_pred = voting_clf.predict_proba(X)[:, 1]\n",
        "    y_pred[y_pred >= threshold] = 1\n",
        "    y_pred[y_pred < threshold] = 0\n",
        "\n",
        "    # show metrics\n",
        "    print(f\"\"\"\n",
        "        VOTING CLASSIFIER ENSEMBLE\n",
        "        Performance metrics on {train_valid_test} set\n",
        "        - - -\n",
        "        Classification threshold: \\t{threshold}\n",
        "        Precision score: \\t\\t{precision_score(y, y_pred):.3f}\n",
        "        # of trading signals: \\t\\t{int(sum(y_pred))}\n",
        "        # of total trading days: \\t{len(y)}\n",
        "    \"\"\")"
      ]
    },
    {
      "cell_type": "code",
      "execution_count": 40,
      "metadata": {
        "colab": {
          "base_uri": "https://localhost:8080/"
        },
        "id": "IefHpL0e1-tG",
        "outputId": "f210e5bf-1f6b-4c70-e9d8-595edec4e3a3"
      },
      "outputs": [
        {
          "output_type": "stream",
          "name": "stdout",
          "text": [
            "\n",
            "        VOTING CLASSIFIER ENSEMBLE\n",
            "        Performance metrics on validation set\n",
            "        - - -\n",
            "        Classification threshold: \t0.5\n",
            "        Precision score: \t\t0.534\n",
            "        # of trading signals: \t\t436\n",
            "        # of total trading days: \t756\n",
            "    \n"
          ]
        }
      ],
      "source": [
        "# performance metrics on validation set with default threshold\n",
        "adjust_threshold(X_valid, y_valid, 'validation')"
      ]
    },
    {
      "cell_type": "markdown",
      "metadata": {
        "id": "l-LudYhjopzX"
      },
      "source": [
        "## Precision recall curve\n",
        "\n",
        "The precision-recall curve tells us the trade-off between these two metrics. We have defined precision earlier. Recall is simply $TP$ / ($TP$+$FN$), where $FN$ is false negatives. In simpler terms, recall answers the question: \"out of all the positive instances, how many did the model manage to find and correctly identify?\".\n",
        "\n",
        "The difference between precision and recall is only in the denominator, where false positives are substituted for false negatives. In practice, this means that if we want to achieve higher precision, we will need to sacrifice recall (and vice-versa), thereby necessarily identifying fewer positive instances.\n",
        "\n",
        "The below plot is a custom version of the traditional precision-recall curve, where we use twin x-axes showing the score for each metric, whilst the y-axis denotes the trade-off at various classification thresholds.\n",
        "\n",
        "Whilst it may seem counterintuitive that precision drops to zero as we increase the threshold, we have to remember that we are working with very low signal-to-noise data. At higher thresholds, we label fewer instances as positive, thereby increasing the metric's variance. Given the very low signal, there is still a fairly high chance of getting a prediction wrong, despite the higher confidence in the prediction. Getting a prediction wrong when there are only very few predictions made in all thus results in widely fluctuating precision scores at higher thresholds. Ultimately, setting a precision threshold too high means not classifying a single instance as positive and a precision score of zero."
      ]
    },
    {
      "cell_type": "code",
      "execution_count": 41,
      "metadata": {
        "colab": {
          "base_uri": "https://localhost:8080/",
          "height": 472
        },
        "id": "C5i-y-4FUi5N",
        "outputId": "5da82885-0818-4d70-eece-9cf4a0c4788e"
      },
      "outputs": [
        {
          "output_type": "display_data",
          "data": {
            "text/plain": [
              "<Figure size 640x480 with 2 Axes>"
            ],
            "image/png": "[encoded data removed]"
          },
          "metadata": {}
        }
      ],
      "source": [
        "# predict probabilities for the validation set\n",
        "y_pred = voting_clf.predict_proba(X_valid)[:, 1]\n",
        "\n",
        "# calculate precision-recall pairs and thresholds\n",
        "precision, recall, thresholds = precision_recall_curve(y_valid, y_pred)\n",
        "\n",
        "# plot precision against thresholds\n",
        "fig, ax1 = plt.subplots()\n",
        "color = 'tab:blue'\n",
        "ax1.set_xlabel('Threshold')\n",
        "ax1.set_ylabel('Precision', color=color)\n",
        "ax1.plot(thresholds, precision[:-1], label='Precision curve', color=color)\n",
        "ax1.tick_params(axis='y', labelcolor=color)\n",
        "\n",
        "# create a secondary y-axis for recall\n",
        "ax2 = ax1.twinx()\n",
        "color = 'tab:orange'\n",
        "ax2.set_ylabel('Recall', color=color)\n",
        "ax2.plot(thresholds, recall[:-1], label='Recall curve', color=color)\n",
        "ax2.tick_params(axis='y', labelcolor=color)\n",
        "\n",
        "# add gridlines\n",
        "ax1.grid(True, linestyle='--', alpha=0.7)\n",
        "\n",
        "# combine legends for both axes\n",
        "lines, labels = ax1.get_legend_handles_labels()\n",
        "lines2, labels2 = ax2.get_legend_handles_labels()\n",
        "ax2.legend(lines + lines2, labels + labels2, loc='lower left')\n",
        "\n",
        "# show plot\n",
        "plt.title('Precision and recall curves with thresholds')\n",
        "plt.show()"
      ]
    },
    {
      "cell_type": "markdown",
      "metadata": {
        "id": "kDCTg6A7WtNs"
      },
      "source": [
        "## Adjust classification threshold\n",
        "\n",
        "From the above chart we see that the threshold which achieves the highest precision score on the validation data set is around 0.62. In the following code cell, we manually set this as our new classification threshold for our ensemble model, to be applied to the test data set and any other future unseen data.\n",
        "\n",
        "There is of course a programmatic way to obtain the exact threshold which maximises precision, however the reason for doing this manually is because the precision curve is non-monotonic and we are interested in finding the optimum balance between precision and recall. In practice, setting a threshold which gives us the highest precision might actually result in so few trades that our trading strategy turns out to be less profitable on average. As a hypothetical example, we would rather make 10 trades with 60% precision, than 1 trade with 65% precision, especially considering there is still a 35% chance of getting that 1 trade incorrect. Whereas, as we increase the number of trades, we allow the law of large numbers to take effect.\n",
        "\n",
        "We can see that adjusting the threshold from the default 0.5 to 0.62 resulted in the precision score improving from 0.534 to 0.541. The trade-off is that we decreased the number of trades from 436 to 74."
      ]
    },
    {
      "cell_type": "code",
      "execution_count": 42,
      "metadata": {
        "colab": {
          "base_uri": "https://localhost:8080/"
        },
        "id": "mirRPGD52XJt",
        "outputId": "634c8a21-d292-45d1-bc0c-009a34312661"
      },
      "outputs": [
        {
          "output_type": "stream",
          "name": "stdout",
          "text": [
            "\n",
            "        VOTING CLASSIFIER ENSEMBLE\n",
            "        Performance metrics on validation set\n",
            "        - - -\n",
            "        Classification threshold: \t0.62\n",
            "        Precision score: \t\t0.541\n",
            "        # of trading signals: \t\t74\n",
            "        # of total trading days: \t756\n",
            "    \n"
          ]
        }
      ],
      "source": [
        "# performance metrics on validation set with adjusted threshold\n",
        "new_threshold = 0.62\n",
        "adjust_threshold(X_valid, y_valid, 'validation', new_threshold)"
      ]
    },
    {
      "cell_type": "markdown",
      "metadata": {
        "id": "bf3VHlknLhV5"
      },
      "source": [
        "# Testing\n",
        "\n",
        "Having tuned the hyperparameters of the individual models on the training data, then having adjusted the classification threshold of our ensemble model on the validation data, our model is now ready for a final evaluation on the holdout test data.\n",
        "\n",
        "In order to evaluate our final ensemble model, we first compare its performance to a benchmark dummy classifier, and then assess its trading performance versus a simple buy-and-hold strategy."
      ]
    },
    {
      "cell_type": "code",
      "execution_count": 43,
      "metadata": {
        "id": "jRv50SaTcxoM"
      },
      "outputs": [],
      "source": [
        "%%capture\n",
        "\n",
        "# fit voting classifier on training set\n",
        "voting_clf.fit(X_train_valid, y_train_valid)"
      ]
    },
    {
      "cell_type": "markdown",
      "metadata": {
        "id": "eC3SmNPoPpMb"
      },
      "source": [
        "## Dummy classifier\n",
        "\n",
        "We specify the dummy classifier to always predict the positive class. This achieves a precision score of 0.538 on the test set. It also generates a buy signal for every single trading day, thus resulting in a low winning trade percentage (i.e. high false positive rate).\n",
        "\n",
        "Note that the dummy classifier has no learned parameters and consequently does not require a classification threshold."
      ]
    },
    {
      "cell_type": "code",
      "execution_count": 44,
      "metadata": {
        "colab": {
          "base_uri": "https://localhost:8080/"
        },
        "id": "pWZU7yqJPvD2",
        "outputId": "a7968a81-9a98-4bc9-c4a0-e02b49d48f27"
      },
      "outputs": [
        {
          "output_type": "stream",
          "name": "stdout",
          "text": [
            "\n",
            "        DUMMY CLASSIFIER\n",
            "        Performance metrics on test set\n",
            "        - - -\n",
            "        Precision score: \t\t0.538\n",
            "        # of trading signals: \t\t775\n",
            "        # of total trading days: \t775\n",
            "    \n"
          ]
        }
      ],
      "source": [
        "# instantiate and fit dummy classifier on training+validation set\n",
        "dummy_clf = DummyClassifier(strategy='constant', constant=1)\n",
        "dummy_clf.fit(X_train_valid, y_train_valid)\n",
        "\n",
        "# use dummy classifier to predict on test set\n",
        "y_pred = dummy_clf.predict(X_test)\n",
        "\n",
        "# show metrics\n",
        "print(f\"\"\"\n",
        "        DUMMY CLASSIFIER\n",
        "        Performance metrics on test set\n",
        "        - - -\n",
        "        Precision score: \\t\\t{precision_score(y_test, y_pred):.3f}\n",
        "        # of trading signals: \\t\\t{int(sum(y_pred))}\n",
        "        # of total trading days: \\t{len(y_test)}\n",
        "    \"\"\")"
      ]
    },
    {
      "cell_type": "markdown",
      "metadata": {
        "id": "xx4tmjn7MOhW"
      },
      "source": [
        "## Voting classifier\n",
        "\n",
        "Our voting classifier ensemble achieves a precision score of 0.55 on the test set, which is higher than on both the training and validation sets. Importantly, this is also an improvement over the benchmark dummy classifier.\n",
        "\n",
        "We generate a buy signal on approximately 10% of all trading days (80/775)."
      ]
    },
    {
      "cell_type": "code",
      "execution_count": 45,
      "metadata": {
        "id": "jDrPgYkBbpoS"
      },
      "outputs": [],
      "source": [
        "# use voting classifier to predict on test set\n",
        "y_pred = voting_clf.predict_proba(X_test)[:, 1]\n",
        "y_pred[y_pred >= new_threshold] = 1\n",
        "y_pred[y_pred < new_threshold] = 0"
      ]
    },
    {
      "cell_type": "code",
      "execution_count": 46,
      "metadata": {
        "colab": {
          "base_uri": "https://localhost:8080/"
        },
        "id": "kfU5E8Kl4N4B",
        "outputId": "9669193f-915d-4748-cabc-2ebd8be6d074"
      },
      "outputs": [
        {
          "output_type": "stream",
          "name": "stdout",
          "text": [
            "\n",
            "        VOTING CLASSIFIER ENSEMBLE\n",
            "        Performance metrics on test set\n",
            "        - - -\n",
            "        Classification threshold: \t0.62\n",
            "        Precision score: \t\t0.550\n",
            "        # of trading signals: \t\t80\n",
            "        # of total trading days: \t775\n",
            "    \n"
          ]
        }
      ],
      "source": [
        "# performance metrics on test set with adjusted threshold\n",
        "adjust_threshold(X_test, y_test, 'test', new_threshold)"
      ]
    },
    {
      "cell_type": "markdown",
      "metadata": {
        "id": "k5RW5Sloolit"
      },
      "source": [
        "## Confusion matrix\n",
        "\n",
        "The confusion matrix shows us that we had 36 false positives (top right), i.e. we predicted positive returns, but instead returns were negative for that day. The model had 44 true positives (bottom right), thus giving us a precision score of 44 / (36+44) equals 0.55.\n",
        "\n",
        "Although this is a good result, it does not reflect the magnitude of the returns on a given day, only the directionality. In other words, we could have had 9 correct predictions with a daily return of 1% each time, only to lose money because of 1 incorrect prediction which had a daily return of 10%.\n",
        "\n",
        "Given a large enough number of trades, we might expect these magnitudes to even out both ways. However, an unfortunate series of wrong predictions with significant magnitude might also result in a wipe out of account equity.\n",
        "\n",
        "In order to get some sense of how our model would have performed if allocated equity, we will consider a simple trading strategy in the next section."
      ]
    },
    {
      "cell_type": "code",
      "execution_count": 47,
      "metadata": {
        "colab": {
          "base_uri": "https://localhost:8080/",
          "height": 449
        },
        "id": "1tL1cgHVbBt1",
        "outputId": "72895d94-ec19-4970-bacd-294ac70f2a0a"
      },
      "outputs": [
        {
          "output_type": "display_data",
          "data": {
            "text/plain": [
              "<Figure size 640x480 with 2 Axes>"
            ],
            "image/png": "[encoded data removed]"
          },
          "metadata": {}
        }
      ],
      "source": [
        "# display confusion matrix\n",
        "ConfusionMatrixDisplay.from_predictions(y_test, y_pred)\n",
        "plt.show()"
      ]
    },
    {
      "cell_type": "markdown",
      "metadata": {
        "id": "QiR33a5kfLMR"
      },
      "source": [
        "# Trading strategy\n",
        "\n",
        "Our trading strategy has a holding period of only one day and we always allocate 100% of our equity to each trade. Needless to say, this is an oversimplification and a more sophisticated strategy would introduce varying holding periods and position sizing, as well take into account other factors such as market volatility and macroeconomic factors.\n",
        "\n",
        "Note that our ensemble model only predicts whether returns are positive or not. This is not the same as predicting whether returns are positive or negative. The distinction is subtle, but our model is optimised to predict the positive class, ignoring its performance on the negative class. This is evident from the precision score formula which does not consider true/false negatives in its calculation.\n",
        "\n",
        "As such, we title our trading strategy as a long-only trading strategy and compare its performance against a benchmark strategy which is an even simpler buy-and-hold.\n",
        "\n",
        "The below equity curve chart shows the relative performance of these two strategies against each other. We observe that our strategy was far less volatile, which is desirable and would imply a higher Sharpe ratio, as well as being more profitable overall. Although not at all impressive, it achieved an approximate positive 2% cumulative return on equity over 3 years, whereas the buy-and-hold approach would have resulted in an approximate negative 8% cumulative return over the same period. This does not take into account transaction costs, which would be higher for our long-only strategy."
      ]
    },
    {
      "cell_type": "code",
      "source": [
        "# calculate long only equity curve\n",
        "X_test['pnl_long'] = X_test['Close_return_1t'].shift(-1) * y_pred\n",
        "X_test['pnl_long'] = (1 + X_test['pnl_long']).cumprod() * 100"
      ],
      "metadata": {
        "id": "a9PsluUBFOCB"
      },
      "execution_count": 48,
      "outputs": []
    },
    {
      "cell_type": "code",
      "source": [
        "# calculate buy and hold equity curve\n",
        "prices = pd.DataFrame(prices[end_valid_date:])\n",
        "prices['returns'] = prices['Close'].pct_change()\n",
        "prices['equity'] = (1 + prices['returns']).cumprod() * 100"
      ],
      "metadata": {
        "id": "uORU47xzFMXH"
      },
      "execution_count": 49,
      "outputs": []
    },
    {
      "cell_type": "code",
      "source": [
        "# plot equity curves\n",
        "plt.figure(figsize=(10, 6))\n",
        "plt.title(f'Equity curves for CME {ticker_name} futures')\n",
        "plt.ylabel('Cumulative returns (%)')\n",
        "\n",
        "# plot long-only strategy\n",
        "X_test['pnl_long'].plot(label='Long-only trading strategy', linewidth=2)\n",
        "\n",
        "# plot buy-and-hold strategy\n",
        "prices['equity'].plot(label='Buy-and-hold strategy', linewidth=1, zorder=0.1)\n",
        "\n",
        "# add baseline\n",
        "plt.axhline(y=100, color='grey', linestyle='--', linewidth=0.5)\n",
        "\n",
        "# display plot\n",
        "plt.legend()\n",
        "plt.show()"
      ],
      "metadata": {
        "colab": {
          "base_uri": "https://localhost:8080/",
          "height": 537
        },
        "id": "B8oUmQErFPQp",
        "outputId": "77e00c2e-d56a-4007-b021-9b48fc930749"
      },
      "execution_count": 50,
      "outputs": [
        {
          "output_type": "display_data",
          "data": {
            "text/plain": [
              "<Figure size 1000x600 with 1 Axes>"
            ],
            "image/png": "[encoded data removed]"
          },
          "metadata": {}
        }
      ]
    },
    {
      "cell_type": "markdown",
      "metadata": {
        "id": "xgHTPXZqG5Ln"
      },
      "source": [
        "# Results\n",
        "\n",
        "- None of the individual models were able to outperform a benchmark model which classified each instance as the positive class.\n",
        "- However, our ensemble model with default threshold was able to outperform the benchmark model when assessed on the training set.\n",
        "- After using the validation set to further tune the classification threshold of our ensemble model, we were subsequently also able to outperform the benchmark model when assessed on the test set.\n",
        "- We finally evaluated the trading performance of our ensemble model, with tuned threshold, on the test set. In a simple long-only trading strategy with a holding period of one day, our ensemble model was able to outperform a buy-and-hold strategy by approximately 10% over a 3-year trading period."
      ]
    },
    {
      "cell_type": "markdown",
      "metadata": {
        "id": "_GW7v2_WG5vU"
      },
      "source": [
        "# Next steps\n",
        "\n",
        "- For the sake of reducing computational requirements, we fixed the number of estimators for both tree-based models at 100. Setting this to a higher number, with some other hyperparameter adjustments such as a lower learning rate, will almost certainly result in more powerful models with better prediction.\n",
        "\n",
        "- Again, in order to reduce computational overhead, we employed a randomised grid search for hyperparameter tuning. Choosing a Bayesian hyperparameter optimisation algorithm would have resulted in finding a better combination of hyperparameters and thus likely resulting in better prediction.\n",
        "\n",
        "- The one day holding period and 100% equity allocation to each trade is overly simplistic and we could do better by incorporating measures such rolling volatility and the actual outputted predicted probabilities. For example, when our model is less confident of its prediction, we may choose to allocate less than 100% capital to a trade. And should we already hold a long position, we may choose to stay long whilst our model keeps predicting a positive return for the next trading day.\n",
        "\n",
        "- The trading performance of our strategy is inflated as we did not take into account transaction fees. A more accurate evaluation will need to incorporate commission, slippage and other fees.\n",
        "\n",
        "- All of the above code can be easily repurposed to predict negative returns instead. This would require building a second ensemble model, which, to maintain conciseness, we decided not to do. The output of both models could then be put together to build a more sophisticated trading strategy. For example, if both models 'agree', then we allocate more equity to a trade. By 'agree' we mean, for example, our first model is very confidently predicting positive returns, whilst the second model has very little confidence in predicting negative returns for the same period. Additionally, employing both models concurrently would allow our strategy to trade from both the long and short side, increasing trade frequency and potentially also profitability.\n",
        "\n",
        "- The above code can also be equally applied to other commodities and asset classes. Combining both short and long trading strategies across multiple products and asset classes would allow us to fully benefit from the law of large numbers and diversification.\n",
        "\n",
        "- Finally, more data is always better. Therefore, if we can obtain data going further back in time, or getting hour/minute/tick level data, we would be able to train more powerful models. Additionally, incorporating other datasets, as well as further feature engineering, would allow us to extract more signal from the noise. Examples of other datasets are, but not limited to, trading data for other commodities, asset classes and indexes, currency exchange rates, interest rates, weather data, etc."
      ]
    },
    {
      "cell_type": "markdown",
      "metadata": {
        "id": "tLsUcWLwzM1R"
      },
      "source": [
        "# END"
      ]
    },
    {
      "cell_type": "code",
      "execution_count": 51,
      "metadata": {
        "colab": {
          "base_uri": "https://localhost:8080/"
        },
        "id": "GHU6IV3VzNo4",
        "outputId": "2725f2e7-85c4-409c-9e47-5d9fdc457d72"
      },
      "outputs": [
        {
          "output_type": "stream",
          "name": "stdout",
          "text": [
            "Python implementation: CPython\n",
            "Python version       : 3.10.12\n",
            "IPython version      : 7.34.0\n",
            "\n",
            "matplotlib: 3.7.1\n",
            "lightgbm  : 4.1.0\n",
            "numpy     : 1.23.5\n",
            "pandas    : 1.5.3\n",
            "scipy     : 1.11.4\n",
            "xgboost   : 2.0.3\n",
            "yfinance  : 0.2.36\n",
            "\n"
          ]
        }
      ],
      "source": [
        "# dependencies\n",
        "%load_ext watermark\n",
        "%watermark --python --iversions"
      ]
    },
    {
      "cell_type": "markdown",
      "metadata": {
        "id": "_Ld0gwMxzZNR"
      },
      "source": [
        "**Author: Vladimir Zinkovski**\n",
        "\n",
        "Send an email: *vladimir.zinkovski@gmail.com*\n",
        "\n",
        "Or connect with me on: [LinkedIn](https://www.linkedin.com/in/vladimir-zinkovski/)"
      ]
    }
  ],
  "metadata": {
    "colab": {
      "toc_visible": true,
      "provenance": [],
      "authorship_tag": "ABX9TyORQLFbO3FhtvcU2YBEypM9",
      "include_colab_link": true
    },
    "kernelspec": {
      "display_name": "Python 3",
      "name": "python3"
    },
    "language_info": {
      "name": "python"
    }
  },
  "nbformat": 4,
  "nbformat_minor": 0
}